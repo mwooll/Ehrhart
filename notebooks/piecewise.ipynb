{
 "cells": [
  {
   "cell_type": "code",
   "execution_count": 1,
   "id": "5d305ede-9fff-42d4-ab90-b069edd37eb0",
   "metadata": {},
   "outputs": [],
   "source": [
    "from itertools import combinations_with_replacement\n",
    "from ehrhart_polynomial import secondary_fan, ehrhart_polynomial, create_polyhedron_from_matrix"
   ]
  },
  {
   "cell_type": "code",
   "execution_count": 71,
   "id": "e2bceb24-475f-4928-925a-998867d83e13",
   "metadata": {},
   "outputs": [],
   "source": [
    "from sage.functions.other import factorial\n",
    "from sage.modules.free_module_element import free_module_element\n",
    "from sage.rings.polynomial.polynomial_ring_constructor import PolynomialRing"
   ]
  },
  {
   "cell_type": "code",
   "execution_count": 3,
   "id": "d02d9f58-49fd-4ac2-aa8c-bea406f86181",
   "metadata": {},
   "outputs": [],
   "source": [
    "from inspect import *"
   ]
  },
  {
   "cell_type": "code",
   "execution_count": 4,
   "id": "af90d21d-3ed2-431f-994b-f6cb02d9e080",
   "metadata": {},
   "outputs": [],
   "source": [
    "def generate_cone_points(cone, number):\n",
    "    dimension = cone._dim\n",
    "    amb_dim = cone._lattice._Module_free_ambient__degree\n",
    "\n",
    "    # print(f\"cone of dim = {dimension} in {amb_dim}d ambient space\")\n",
    "\n",
    "    if dimension == 0:\n",
    "        return [(0,)*amb_dim], 0\n",
    "\n",
    "    vectors = [free_module_element(list(ray)) for ray in cone._rays]\n",
    "\n",
    "    points = []\n",
    "    points_len = 0\n",
    "    index = 1\n",
    "    while points_len <= number:\n",
    "        new_points = [sum(combi) for combi in combinations_with_replacement(vectors, index)]\n",
    "        points += new_points\n",
    "        index += 1\n",
    "        points_len += len(new_points)\n",
    "    return points[points_len-number:]"
   ]
  },
  {
   "cell_type": "code",
   "execution_count": 11,
   "id": "ead7da16-bca4-4d4c-a888-fb96dfaba939",
   "metadata": {},
   "outputs": [
    {
     "data": {
      "text/plain": [
       "[0-d cone in 1-d lattice N,\n",
       " 1-d cone in 4-d lattice N,\n",
       " 1-d cone in 4-d lattice N,\n",
       " 1-d cone in 4-d lattice N,\n",
       " 2-d cone in 4-d lattice N,\n",
       " 2-d cone in 4-d lattice N]"
      ]
     },
     "execution_count": 11,
     "metadata": {},
     "output_type": "execute_result"
    }
   ],
   "source": [
    "A = Matrix([[-1, 0], [0, -1], [1, 1], [0, 1]])\n",
    "sec_fan = secondary_fan(A)\n",
    "cones = sec_fan[\"CONES\"]\n",
    "cones"
   ]
  },
  {
   "cell_type": "code",
   "execution_count": 6,
   "id": "07588d7b-a44d-464e-9052-eee513ee9053",
   "metadata": {},
   "outputs": [
    {
     "data": {
      "text/plain": [
       "(x0, x1, x2, x3)"
      ]
     },
     "execution_count": 6,
     "metadata": {},
     "output_type": "execute_result"
    }
   ],
   "source": [
    "R = PolynomialRing(QQ, \"x\", 4)\n",
    "R.gens()"
   ]
  },
  {
   "cell_type": "code",
   "execution_count": 7,
   "id": "621cd364-685c-4864-8ea1-4d7befc02080",
   "metadata": {},
   "outputs": [
    {
     "data": {
      "text/plain": [
       "x0^2 + x1*x2 + x3"
      ]
     },
     "execution_count": 7,
     "metadata": {},
     "output_type": "execute_result"
    }
   ],
   "source": [
    "f = lambda w, x, y, z: w**2 + x*y + z\n",
    "R.interpolation(2, f)"
   ]
  },
  {
   "cell_type": "code",
   "execution_count": 57,
   "id": "3e458e47-42fc-46e8-bb50-9734793af89e",
   "metadata": {},
   "outputs": [],
   "source": [
    "def get_terms_of_order(polynomials, order):\n",
    "    return [poly.coefficients()[order].constants()[0] if poly.degree() >= order else 0 for poly in polynomials]"
   ]
  },
  {
   "cell_type": "code",
   "execution_count": 76,
   "id": "99428dd5-ae04-4cef-87f4-e1125b441c7e",
   "metadata": {},
   "outputs": [],
   "source": [
    "def get_term_dict(A_matrix, points):\n",
    "    polynomials = []\n",
    "    for point in points:\n",
    "        polytope = create_polyhedron_from_matrix(A_matrix, point)\n",
    "        ehr_poly = ehrhart_polynomial(polytope.Vrepresentation(), True)\n",
    "        polynomials.append(ehr_poly)\n",
    "\n",
    "    max_degree = max(poly.degree() for poly in polynomials)\n",
    "    terms = {d: get_terms_of_order(polynomials, d) for d in range(max_degree + 1)}\n",
    "    return terms"
   ]
  },
  {
   "cell_type": "code",
   "execution_count": 78,
   "id": "3916893c-647e-424e-a281-94a34367b59b",
   "metadata": {},
   "outputs": [],
   "source": [
    "def _compute_piecewise(A_matrix, sec_fan):\n",
    "    num_variables = sec_fan[\"DIM\"]\n",
    "    max_degree = sec_fan[\"LINEALITY_DIM\"]\n",
    "\n",
    "    R = PolynomialRing(QQ, \"x\", 4)\n",
    "    S = PolynomialRing(R, \"k\")\n",
    "    k = S.gen()\n",
    "\n",
    "    cone_polys = []\n",
    "    for cone in sec_fan[\"CONES\"][1:]:\n",
    "        estimated_period = 1\n",
    "        needed_points = factorial(num_variables + max_degree)//( factorial(num_variables)*factorial(max_degree) )\n",
    "        cone_points = generate_cone_points(cone, needed_points)\n",
    "        term_dict = get_term_dict(A_matrix, cone_points)\n",
    "\n",
    "        cone_poly = 0\n",
    "        for degree, terms in term_dict.items():\n",
    "            cone_poly += R.interpolation(max_degree, cone_points, terms)*k**degree\n",
    "        print(cone_poly)\n",
    "        cone_polys.append(cone_poly)\n",
    "    return cone_polys\n",
    "        "
   ]
  },
  {
   "cell_type": "code",
   "execution_count": 79,
   "id": "1dadc368-e56e-4ab0-a368-66dd48765792",
   "metadata": {},
   "outputs": [
    {
     "name": "stdout",
     "output_type": "stream",
     "text": [
      "1\n",
      "21/8*x3^2*k^2 + 13/4*x3*k + 1\n",
      "9/2*x3^2*k^2 - 11/2*x3*k + 1\n"
     ]
    },
    {
     "ename": "ValueError",
     "evalue": "Could not find a solution.",
     "output_type": "error",
     "traceback": [
      "\u001b[0;31m---------------------------------------------------------------------------\u001b[0m",
      "\u001b[0;31mNotFullRankError\u001b[0m                          Traceback (most recent call last)",
      "File \u001b[0;32m~/sageinstall/sage/src/sage/matrix/matrix2.pyx:942\u001b[0m, in \u001b[0;36msage.matrix.matrix2.Matrix.solve_right\u001b[0;34m()\u001b[0m\n\u001b[1;32m    941\u001b[0m try:\n\u001b[0;32m--> 942\u001b[0m     X = self._solve_right_nonsingular_square(C, check_rank=True)\n\u001b[1;32m    943\u001b[0m except NotFullRankError:\n",
      "File \u001b[0;32m~/sageinstall/sage/src/sage/matrix/matrix2.pyx:988\u001b[0m, in \u001b[0;36msage.matrix.matrix2.Matrix._solve_right_nonsingular_square\u001b[0;34m()\u001b[0m\n\u001b[1;32m    987\u001b[0m if check_rank and self.rank() < self.nrows():\n\u001b[0;32m--> 988\u001b[0m     raise NotFullRankError\n\u001b[1;32m    989\u001b[0m D = self.augment(B)\n",
      "\u001b[0;31mNotFullRankError\u001b[0m: ",
      "\nDuring handling of the above exception, another exception occurred:\n",
      "\u001b[0;31mValueError\u001b[0m                                Traceback (most recent call last)",
      "File \u001b[0;32m~/sageinstall/sage/src/sage/matrix/matrix2.pyx:449\u001b[0m, in \u001b[0;36msage.matrix.matrix2.Matrix.solve_left\u001b[0;34m()\u001b[0m\n\u001b[1;32m    448\u001b[0m try:\n\u001b[0;32m--> 449\u001b[0m     return self.transpose().solve_right(B, check=check)\n\u001b[1;32m    450\u001b[0m except ValueError as e:\n",
      "File \u001b[0;32m~/sageinstall/sage/src/sage/matrix/matrix2.pyx:944\u001b[0m, in \u001b[0;36msage.matrix.matrix2.Matrix.solve_right\u001b[0;34m()\u001b[0m\n\u001b[1;32m    943\u001b[0m except NotFullRankError:\n\u001b[0;32m--> 944\u001b[0m     X = self._solve_right_general(C, check=check)\n\u001b[1;32m    945\u001b[0m \n",
      "File \u001b[0;32m~/sageinstall/sage/src/sage/matrix/matrix2.pyx:1062\u001b[0m, in \u001b[0;36msage.matrix.matrix2.Matrix._solve_right_general\u001b[0;34m()\u001b[0m\n\u001b[1;32m   1061\u001b[0m     if self*X != B:\n\u001b[0;32m-> 1062\u001b[0m         raise ValueError(\"matrix equation has no solutions\")\n\u001b[1;32m   1063\u001b[0m return X\n",
      "\u001b[0;31mValueError\u001b[0m: matrix equation has no solutions",
      "\nDuring handling of the above exception, another exception occurred:\n",
      "\u001b[0;31mValueError\u001b[0m                                Traceback (most recent call last)",
      "File \u001b[0;32m~/sageinstall/sage/src/sage/rings/polynomial/multi_polynomial_ring_base.pyx:507\u001b[0m, in \u001b[0;36msage.rings.polynomial.multi_polynomial_ring_base.MPolynomialRing_base.interpolation\u001b[0;34m()\u001b[0m\n\u001b[1;32m    506\u001b[0m try:\n\u001b[0;32m--> 507\u001b[0m     coeff = M.solve_left(vector(R, values))\n\u001b[1;32m    508\u001b[0m except ValueError:\n",
      "File \u001b[0;32m~/sageinstall/sage/src/sage/matrix/matrix2.pyx:451\u001b[0m, in \u001b[0;36msage.matrix.matrix2.Matrix.solve_left\u001b[0;34m()\u001b[0m\n\u001b[1;32m    450\u001b[0m     except ValueError as e:\n\u001b[0;32m--> 451\u001b[0m         raise e.__class__(str(e).replace('row', 'column'))\n\u001b[1;32m    452\u001b[0m else:\n",
      "\u001b[0;31mValueError\u001b[0m: matrix equation has no solutions",
      "\nDuring handling of the above exception, another exception occurred:\n",
      "\u001b[0;31mValueError\u001b[0m                                Traceback (most recent call last)",
      "Cell \u001b[0;32mIn[79], line 1\u001b[0m\n\u001b[0;32m----> 1\u001b[0m \u001b[43m_compute_piecewise\u001b[49m\u001b[43m(\u001b[49m\u001b[43mA\u001b[49m\u001b[43m,\u001b[49m\u001b[43m \u001b[49m\u001b[43msec_fan\u001b[49m\u001b[43m)\u001b[49m\n",
      "Cell \u001b[0;32mIn[78], line 18\u001b[0m, in \u001b[0;36m_compute_piecewise\u001b[0;34m(A_matrix, sec_fan)\u001b[0m\n\u001b[1;32m     16\u001b[0m cone_poly \u001b[38;5;241m=\u001b[39m Integer(\u001b[38;5;241m0\u001b[39m)\n\u001b[1;32m     17\u001b[0m \u001b[38;5;28;01mfor\u001b[39;00m degree, terms \u001b[38;5;129;01min\u001b[39;00m term_dict\u001b[38;5;241m.\u001b[39mitems():\n\u001b[0;32m---> 18\u001b[0m     cone_poly \u001b[38;5;241m+\u001b[39m\u001b[38;5;241m=\u001b[39m \u001b[43mR\u001b[49m\u001b[38;5;241;43m.\u001b[39;49m\u001b[43minterpolation\u001b[49m\u001b[43m(\u001b[49m\u001b[43mmax_degree\u001b[49m\u001b[43m,\u001b[49m\u001b[43m \u001b[49m\u001b[43mcone_points\u001b[49m\u001b[43m,\u001b[49m\u001b[43m \u001b[49m\u001b[43mterms\u001b[49m\u001b[43m)\u001b[49m\u001b[38;5;241m*\u001b[39mk\u001b[38;5;241m*\u001b[39m\u001b[38;5;241m*\u001b[39mdegree\n\u001b[1;32m     19\u001b[0m \u001b[38;5;28mprint\u001b[39m(cone_poly)\n\u001b[1;32m     20\u001b[0m cone_polys\u001b[38;5;241m.\u001b[39mappend(cone_poly)\n",
      "File \u001b[0;32m~/sageinstall/sage/src/sage/rings/polynomial/multi_polynomial_ring_base.pyx:509\u001b[0m, in \u001b[0;36msage.rings.polynomial.multi_polynomial_ring_base.MPolynomialRing_base.interpolation\u001b[0;34m()\u001b[0m\n\u001b[1;32m    507\u001b[0m     coeff = M.solve_left(vector(R, values))\n\u001b[1;32m    508\u001b[0m except ValueError:\n\u001b[0;32m--> 509\u001b[0m     raise ValueError('Could not find a solution.')\n\u001b[1;32m    510\u001b[0m solution = sum(coeff[i] * self.monomial(*exponents_space[i]) for i in range(len(exponents_space)))\n\u001b[1;32m    511\u001b[0m \n",
      "\u001b[0;31mValueError\u001b[0m: Could not find a solution."
     ]
    }
   ],
   "source": [
    "_compute_piecewise(A, sec_fan)"
   ]
  },
  {
   "cell_type": "code",
   "execution_count": 63,
   "id": "959bb8cb-249b-4242-9680-01662717e397",
   "metadata": {},
   "outputs": [
    {
     "data": {
      "text/plain": [
       "[(-2, -2, 4, 6),\n",
       " (-3, -3, 6, 9),\n",
       " (-4, -4, 8, 12),\n",
       " (-5, -5, 10, 15),\n",
       " (-6, -6, 12, 18),\n",
       " (-7, -7, 14, 21),\n",
       " (-8, -8, 16, 24),\n",
       " (-9, -9, 18, 27),\n",
       " (-10, -10, 20, 30),\n",
       " (-11, -11, 22, 33),\n",
       " (-12, -12, 24, 36),\n",
       " (-13, -13, 26, 39),\n",
       " (-14, -14, 28, 42),\n",
       " (-15, -15, 30, 45),\n",
       " (-16, -16, 32, 48)]"
      ]
     },
     "execution_count": 63,
     "metadata": {},
     "output_type": "execute_result"
    }
   ],
   "source": [
    "cone_points"
   ]
  },
  {
   "cell_type": "code",
   "execution_count": 70,
   "id": "4ce1cdb4-7b67-44e9-85d6-6543799aba71",
   "metadata": {},
   "outputs": [
    {
     "name": "stdout",
     "output_type": "stream",
     "text": [
      "1\n"
     ]
    }
   ],
   "source": [
    "cone_poly = 0\n",
    "R = PolynomialRing(QQ, \"x\", 4)\n",
    "S = PolynomialRing(R, \"k\")\n",
    "k = S.gen()\n",
    "for degree, terms in term_dict.items():\n",
    "    cone_poly += R.interpolation(2, cone_points, terms)*k**degree\n",
    "print(cone_poly)"
   ]
  }
 ],
 "metadata": {
  "kernelspec": {
   "display_name": "SageMath 10.3",
   "language": "sage",
   "name": "sagemath"
  },
  "language_info": {
   "codemirror_mode": {
    "name": "ipython",
    "version": 3
   },
   "file_extension": ".py",
   "mimetype": "text/x-python",
   "name": "python",
   "nbconvert_exporter": "python",
   "pygments_lexer": "ipython3",
   "version": "3.10.12"
  }
 },
 "nbformat": 4,
 "nbformat_minor": 5
}
