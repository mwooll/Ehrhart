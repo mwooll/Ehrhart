{
 "cells": [
  {
   "cell_type": "code",
   "execution_count": 70,
   "id": "58ded2fd-2cfd-45d0-8ea4-ce03b3b0b1df",
   "metadata": {},
   "outputs": [
    {
     "ename": "NameError",
     "evalue": "name 'PiecewisePolynomial' is not defined",
     "output_type": "error",
     "traceback": [
      "\u001b[0;31m---------------------------------------------------------------------------\u001b[0m",
      "\u001b[0;31mNameError\u001b[0m                                 Traceback (most recent call last)",
      "Cell \u001b[0;32mIn[70], line 1\u001b[0m\n\u001b[0;32m----> 1\u001b[0m import_statements(\u001b[43mPiecewisePolynomial\u001b[49m)\n",
      "\u001b[0;31mNameError\u001b[0m: name 'PiecewisePolynomial' is not defined"
     ]
    }
   ],
   "source": [
    "import_statements()"
   ]
  },
  {
   "cell_type": "code",
   "execution_count": 34,
   "id": "5d305ede-9fff-42d4-ab90-b069edd37eb0",
   "metadata": {},
   "outputs": [],
   "source": [
    "from itertools import combinations_with_replacement\n",
    "from ehrhart_quasi_polynomial import ehrhart_quasi_polynomial\n",
    "from sage.rings.polynomial.groebner_fan import PolyhedralFan"
   ]
  },
  {
   "cell_type": "code",
   "execution_count": 35,
   "id": "e2bceb24-475f-4928-925a-998867d83e13",
   "metadata": {},
   "outputs": [],
   "source": [
    "from sage.functions.other import factorial\n",
    "from sage.modules.free_module_element import free_module_element\n",
    "from sage.rings.polynomial.polynomial_ring_constructor import PolynomialRing"
   ]
  },
  {
   "cell_type": "code",
   "execution_count": 36,
   "id": "d02d9f58-49fd-4ac2-aa8c-bea406f86181",
   "metadata": {},
   "outputs": [],
   "source": [
    "from inspect import *"
   ]
  },
  {
   "cell_type": "code",
   "execution_count": 37,
   "id": "2c4f7b66-7fdc-4a74-948a-ca46d4ea6294",
   "metadata": {},
   "outputs": [],
   "source": [
    "def create_polytope_from_matrix(A, b):\n",
    "    inequalities = [[b[k]] + list(-A.rows()[k]) for k in range(A.nrows())]\n",
    "    return Polyhedron(ieqs = inequalities)"
   ]
  },
  {
   "cell_type": "code",
   "execution_count": 38,
   "id": "af90d21d-3ed2-431f-994b-f6cb02d9e080",
   "metadata": {},
   "outputs": [],
   "source": [
    "def generate_cone_points(cone, number):\n",
    "    dimension = cone.dimension()\n",
    "    amb_dim = cone.ambient_dimension()\n",
    "\n",
    "    # print(f\"cone of dim = {dimension} in {amb_dim}d ambient space\")\n",
    "\n",
    "    if dimension == 0:\n",
    "        return [(0,)*amb_dim], 0\n",
    "\n",
    "    vectors = [free_module_element(list(ray)) for ray in cone.rays()]\n",
    "\n",
    "    points = []\n",
    "    points_len = 0\n",
    "    index = 1\n",
    "    while points_len <= number:\n",
    "        new_points = [sum(combi) for combi in combinations_with_replacement(vectors, index)]\n",
    "        points += new_points\n",
    "        index += 1\n",
    "        points_len += len(new_points)\n",
    "    return points[:number]"
   ]
  },
  {
   "cell_type": "code",
   "execution_count": 39,
   "id": "62bb6b64-d1a0-429e-b624-e0e2cd571bb4",
   "metadata": {},
   "outputs": [],
   "source": [
    "def _gfan_input_style(A_matrix):\n",
    "    return \"{\" + \", \".join(str(row) for row in A_matrix.rows()) + \"}\""
   ]
  },
  {
   "cell_type": "code",
   "execution_count": 69,
   "id": "b8886555-0683-46de-96ea-911dbb20104c",
   "metadata": {},
   "outputs": [
    {
     "ename": "AttributeError",
     "evalue": "'PolyhedralFan' object has no attribute 'house'",
     "output_type": "error",
     "traceback": [
      "\u001b[0;31m---------------------------------------------------------------------------\u001b[0m",
      "\u001b[0;31mAttributeError\u001b[0m                            Traceback (most recent call last)",
      "Cell \u001b[0;32mIn[69], line 1\u001b[0m\n\u001b[0;32m----> 1\u001b[0m \u001b[43mPolyhedralFan\u001b[49m\u001b[43m(\u001b[49m\u001b[43mgfan\u001b[49m\u001b[43m(\u001b[49m\u001b[43m_gfan_input_style\u001b[49m\u001b[43m(\u001b[49m\u001b[43mMatrix\u001b[49m\u001b[43m(\u001b[49m\u001b[43m[\u001b[49m\u001b[43m[\u001b[49m\u001b[38;5;241;43m-\u001b[39;49m\u001b[43mInteger\u001b[49m\u001b[43m(\u001b[49m\u001b[38;5;241;43m1\u001b[39;49m\u001b[43m)\u001b[49m\u001b[43m,\u001b[49m\u001b[43m \u001b[49m\u001b[43mInteger\u001b[49m\u001b[43m(\u001b[49m\u001b[38;5;241;43m0\u001b[39;49m\u001b[43m)\u001b[49m\u001b[43m]\u001b[49m\u001b[43m,\u001b[49m\u001b[43m \u001b[49m\u001b[43m[\u001b[49m\u001b[43mInteger\u001b[49m\u001b[43m(\u001b[49m\u001b[38;5;241;43m0\u001b[39;49m\u001b[43m)\u001b[49m\u001b[43m,\u001b[49m\u001b[43m \u001b[49m\u001b[43mInteger\u001b[49m\u001b[43m(\u001b[49m\u001b[38;5;241;43m2\u001b[39;49m\u001b[43m)\u001b[49m\u001b[43m]\u001b[49m\u001b[43m]\u001b[49m\u001b[43m)\u001b[49m\u001b[43m)\u001b[49m\u001b[43m,\u001b[49m\u001b[43m \u001b[49m\u001b[38;5;124;43m\"\u001b[39;49m\u001b[38;5;124;43msecondaryfan\u001b[39;49m\u001b[38;5;124;43m\"\u001b[39;49m\u001b[43m)\u001b[49m\u001b[43m)\u001b[49m\u001b[38;5;241;43m.\u001b[39;49m\u001b[43mhouse\u001b[49m()\n",
      "\u001b[0;31mAttributeError\u001b[0m: 'PolyhedralFan' object has no attribute 'house'"
     ]
    }
   ],
   "source": [
    "PolyhedralFan(gfan(_gfan_input_style(Matrix([[-1, 0], [0, 2]])), \"secondaryfan\")).house()"
   ]
  },
  {
   "cell_type": "code",
   "execution_count": 83,
   "id": "ead7da16-bca4-4d4c-a888-fb96dfaba939",
   "metadata": {},
   "outputs": [
    {
     "data": {
      "text/plain": [
       "['1 0 -1 0', '0 1 -1 -1']"
      ]
     },
     "execution_count": 83,
     "metadata": {},
     "output_type": "execute_result"
    }
   ],
   "source": [
    "A = Matrix([[-1, 0], [0, -1], [1, 1], [0, 1]])\n",
    "sec_fan = PolyhedralFan(gfan(_gfan_input_style(A), \"secondaryfan\"))\n",
    "sec_fan.fan_dict[\"LINEALITY_SPACE\"]"
   ]
  },
  {
   "cell_type": "code",
   "execution_count": 42,
   "id": "3541dfd5-9890-4a5f-83e4-ceabd123faa8",
   "metadata": {},
   "outputs": [
    {
     "data": {
      "text/plain": [
       "[[-1, 2, -1, 3], [1, 3, 1, 2], [2, 1, 2, -1]]"
      ]
     },
     "execution_count": 42,
     "metadata": {},
     "output_type": "execute_result"
    }
   ],
   "source": [
    "sec_fan.rays()"
   ]
  },
  {
   "cell_type": "code",
   "execution_count": 43,
   "id": "3e458e47-42fc-46e8-bb50-9734793af89e",
   "metadata": {},
   "outputs": [],
   "source": [
    "def get_terms_of_order(polynomials, order):\n",
    "    return [poly.coefficients()[order].constants()[0] if poly.degree() >= order else 0 for poly in polynomials]"
   ]
  },
  {
   "cell_type": "code",
   "execution_count": 44,
   "id": "99428dd5-ae04-4cef-87f4-e1125b441c7e",
   "metadata": {},
   "outputs": [],
   "source": [
    "def get_term_dict(A_matrix, points):\n",
    "    polynomials = []\n",
    "    for point in points:\n",
    "        polytope = create_polytope_from_matrix(A_matrix, point)\n",
    "        ehr_poly = ehrhart_quasi_polynomial(polytope.Vrepresentation())\n",
    "        polynomials.append(ehr_poly)\n",
    "\n",
    "    max_degree = max(poly.degree() for poly in polynomials)\n",
    "    terms = {d: get_terms_of_order(polynomials, d) for d in range(max_degree + 1)}\n",
    "    return terms"
   ]
  },
  {
   "cell_type": "code",
   "execution_count": 45,
   "id": "073670d9-15d7-4b01-add9-b1b81da5b07b",
   "metadata": {},
   "outputs": [],
   "source": [
    "def _remove_zero_dimensions(rays):\n",
    "    zero_dimensions = []\n",
    "    for dim, val in enumerate(rays[0]):\n",
    "        if val == 0:\n",
    "            if all(ray[dim] == 0 for ray in rays[1:]):\n",
    "                zero_dimensions.append(dim)\n",
    "    reduced_cone = Cone([[val for dim, val in enumerate(ray) if dim not in zero_dimensions ]for ray in rays])\n",
    "    return reduced_cone, zero_dimensions"
   ]
  },
  {
   "cell_type": "code",
   "execution_count": 46,
   "id": "7ad23e22-2fdb-49b0-b656-c12c9e8a91d1",
   "metadata": {},
   "outputs": [],
   "source": [
    "def _safe_ratio(numerator, denominator):\n",
    "    return numerator/denominator if denominator != 0 else None"
   ]
  },
  {
   "cell_type": "code",
   "execution_count": 47,
   "id": "07244ae2-54c4-46d1-b98a-d04bcec7016a",
   "metadata": {},
   "outputs": [],
   "source": [
    "def _remove_scaled_dimensions(rays, ambient_dimension):\n",
    "    scaled_dimensions = []\n",
    "    for dim in range(ambient_dimension):\n",
    "        for extra_dim in range(dim):\n",
    "            ratio = _safe_ratio(rays[0][dim], rays[0][extra_dim])\n",
    "            for ray in rays[1:]:\n",
    "                if ratio != _safe_ratio(ray[dim], ray[extra_dim]):\n",
    "                    break\n",
    "            else:\n",
    "                scaled_dimensions.append(extra_dim)\n",
    "\n",
    "    reduced_cone = Cone([[val for dim, val in enumerate(ray) if dim not in scaled_dimensions] for ray in rays])\n",
    "    return reduced_cone, scaled_dimensions"
   ]
  },
  {
   "cell_type": "code",
   "execution_count": 48,
   "id": "16f77d3e-28ab-4897-b89e-b2f3268424c5",
   "metadata": {},
   "outputs": [],
   "source": [
    "def _find_true_dimensions_removed(first, second, starting_dimension):\n",
    "    dimensions_removed = []\n",
    "    true_dimension = 0\n",
    "    skipped_dimensions = 0\n",
    "    while true_dimension < starting_dimension:\n",
    "        if true_dimension in first:\n",
    "            dimensions_removed.append(true_dimension)\n",
    "            skipped_dimensions += 1\n",
    "        if true_dimension - skipped_dimensions in second:\n",
    "            dimensions_removed.append(true_dimension)\n",
    "        true_dimension += 1\n",
    "    return dimensions_removed"
   ]
  },
  {
   "cell_type": "code",
   "execution_count": 49,
   "id": "57827058-5499-44aa-9b61-db7f1fb37b31",
   "metadata": {},
   "outputs": [],
   "source": [
    "def _reduce_cone(cone):\n",
    "    if cone.dimension() in [0, 1]:\n",
    "        return cone, []\n",
    "    ambient_dimension = cone.ambient_dimension()\n",
    "\n",
    "    cone, zero_dimensions = _remove_zero_dimensions(cone.rays())\n",
    "    return cone, zero_dimensions\n",
    "    \n",
    "    cone, scaled_dimensions = _remove_scaled_dimensions(cone.rays(), ambient_dimension - len(zero_dimensions))\n",
    "\n",
    "    dimensions_removed = _find_true_dimensions_removed(zero_dimensions, scaled_dimensions, ambient_dimension)\n",
    "    return cone, dimensions_removed"
   ]
  },
  {
   "cell_type": "code",
   "execution_count": 50,
   "id": "926c6e0f-14f5-4e59-a581-5ac95c7e7079",
   "metadata": {},
   "outputs": [
    {
     "name": "stdout",
     "output_type": "stream",
     "text": [
      "N(0, 1, 2, 4),\n",
      "N(0, 0, 1, 2)\n",
      "in 4-d lattice N\n",
      "N(1, 2, 4),\n",
      "N(0, 1, 2)\n",
      "in 3-d lattice N [0]\n"
     ]
    }
   ],
   "source": [
    "cone = Cone([(0, 1, 2, 4), (0, 0, 1, 2)])\n",
    "print(cone.rays())\n",
    "cone, removed = _reduce_cone(cone)\n",
    "print(cone.rays(), removed)"
   ]
  },
  {
   "cell_type": "code",
   "execution_count": 51,
   "id": "e70a685c-573c-4053-9946-f22649f76da4",
   "metadata": {},
   "outputs": [],
   "source": [
    "def _alter_rays(rays, alter, num_var):\n",
    "    for key, val in alter.items():\n",
    "            if key >= num_variables:\n",
    "                raise ValueError(f\"{keys=} of 'alter' cannot be larger or equal than the dimension of the fan, which is {sec_fan.dim()}\")\n",
    "            if val not in QQ:\n",
    "                raise ValueError(f\"values of 'alter' need to be rationals, got {val} of type {type(val)}\")\n",
    "\n",
    "    altered_rays = []\n",
    "    for ray in fan_rays:\n",
    "        altered_ray = ray\n",
    "        for key, val in alter.items():\n",
    "            altered_ray[key] = val\n",
    "        altered_rays.append(altered_ray)\n",
    "    return altered_rays"
   ]
  },
  {
   "cell_type": "code",
   "execution_count": 52,
   "id": "3916893c-647e-424e-a281-94a34367b59b",
   "metadata": {},
   "outputs": [],
   "source": [
    "def _compute_piecewise(A_matrix, sec_fan, alter=None):\n",
    "    num_variables = A_matrix.nrows()\n",
    "    max_degree = sec_fan.lineality_dim()\n",
    "    print(f\"{num_variables=}\")\n",
    "\n",
    "    R = PolynomialRing(QQ, \"x\", num_variables)\n",
    "    x_vars = R.gens()\n",
    "    S = PolynomialRing(R, \"k\")\n",
    "    k = S.gen()\n",
    "\n",
    "    fan_rays = sec_fan.rays()\n",
    "\n",
    "    if isinstance(alter, dict):\n",
    "        fan_rays = _alter_rays(fan_rays, alter, num_variables)\n",
    "\n",
    "    cone_polys = []\n",
    "    for cone_dimension, ray_lists in sec_fan.maximal_cones().items():\n",
    "        for ray_list in ray_lists:\n",
    "            if ray_list == []: # only the origin is included\n",
    "                poly_origin = create_polytope_from_matrix(A_matrix, [0]*num_variables)\n",
    "                ehr_origin = ehrhart_quasi_polynomial(poly_origin.Vrepresentation())\n",
    "                cone_polys.append(ehr_origin)\n",
    "                continue\n",
    "\n",
    "            cone = Cone([fan_rays[idx] for idx in ray_list])\n",
    "            # estimated_period = 1\n",
    "            red_cone, dimensions_removed = _reduce_cone(cone)\n",
    "            actual_num_variables = num_variables - len(dimensions_removed)\n",
    "    \n",
    "            needed_points = factorial(actual_num_variables + max_degree)//( factorial(actual_num_variables)*factorial(max_degree) )\n",
    "            cone_points = generate_cone_points(cone, needed_points)\n",
    "            term_dict = get_term_dict(A_matrix, cone_points)\n",
    "\n",
    "            interpolation_variables = [x for dim, x in enumerate(x_vars) if dim not in dimensions_removed]\n",
    "            T = PolynomialRing(QQ, names=interpolation_variables)\n",
    "            cone_points = [[p for dim, p in enumerate(point) if dim not in dimensions_removed] for point in cone_points]\n",
    "\n",
    "            cone_poly = 0\n",
    "            for degree, terms in term_dict.items():\n",
    "                cone_poly += T.interpolation(max_degree, cone_points, terms)*k**degree\n",
    "\n",
    "            cone_polys.append(cone_poly)\n",
    "    return cone_polys\n",
    "        "
   ]
  },
  {
   "cell_type": "code",
   "execution_count": 53,
   "id": "1dadc368-e56e-4ab0-a368-66dd48765792",
   "metadata": {},
   "outputs": [
    {
     "name": "stdout",
     "output_type": "stream",
     "text": [
      "{2: [[]], 3: [[0], [1], [2]], 4: [[0, 1], [1, 2]]}\n",
      "num_variables=4\n"
     ]
    },
    {
     "data": {
      "text/plain": [
       "[(9/2*x2^2 + 3*x2*x3 + 1/2*x3^2)*k^2 + (9/2*x2 + 3/2*x3)*k + 1,\n",
       " (5/2*x2^2 + 5*x2*x3)*k^2 + (7/2*x2 + 2*x3)*k + 1]"
      ]
     },
     "execution_count": 53,
     "metadata": {},
     "output_type": "execute_result"
    }
   ],
   "source": [
    "print(sec_fan.cones())\n",
    "cone_polys = _compute_piecewise(A, sec_fan)\n",
    "cone_polys"
   ]
  },
  {
   "cell_type": "code",
   "execution_count": 56,
   "id": "a1d89e88-e326-4841-bece-70201e942a41",
   "metadata": {},
   "outputs": [
    {
     "data": {
      "text/plain": [
       "[2-d cone in 4-d lattice N, 2-d cone in 4-d lattice N]"
      ]
     },
     "execution_count": 56,
     "metadata": {},
     "output_type": "execute_result"
    }
   ],
   "source": [
    "cones = []\n",
    "rays = [free_module_element(ray) for ray in  sec_fan.rays()]\n",
    "for ray_list in sec_fan.maximal_cones().values():\n",
    "    for ray_indeces in ray_list:\n",
    "        if ray_indeces != []:\n",
    "            cones.append(Cone([rays[idx] for idx in ray_indeces]))\n",
    "cones"
   ]
  },
  {
   "cell_type": "code",
   "execution_count": 59,
   "id": "e4555a98-aa3b-4b8d-b505-3118d5889a6b",
   "metadata": {},
   "outputs": [
    {
     "name": "stdout",
     "output_type": "stream",
     "text": [
      "point: (-1, 2, -1, 3)\n",
      "ehr_poly=QuasiPolynomialElement(Ring of Quasi-Polynomials over Rational Field, [[1]])\n",
      "cone idx: 0\n",
      "-25/2*k^2 + 5/2*k + 1\n",
      "\n",
      "point: (1, 3, 1, 2)\n",
      "ehr_poly=QuasiPolynomialElement(Ring of Quasi-Polynomials over Rational Field, [[1], [15/2], [25/2]])\n",
      "cone idx: 0\n",
      "25/2*k^2 + 15/2*k + 1\n",
      "cone idx: 1\n"
     ]
    },
    {
     "ename": "IndexError",
     "evalue": "list index out of range",
     "output_type": "error",
     "traceback": [
      "\u001b[0;31m---------------------------------------------------------------------------\u001b[0m",
      "\u001b[0;31mIndexError\u001b[0m                                Traceback (most recent call last)",
      "Cell \u001b[0;32mIn[59], line 10\u001b[0m\n\u001b[1;32m      8\u001b[0m     \u001b[38;5;28;01mif\u001b[39;00m p \u001b[38;5;129;01min\u001b[39;00m cone:\n\u001b[1;32m      9\u001b[0m         \u001b[38;5;28mprint\u001b[39m(\u001b[38;5;124mf\u001b[39m\u001b[38;5;124m\"\u001b[39m\u001b[38;5;124mcone idx: \u001b[39m\u001b[38;5;132;01m{\u001b[39;00midx\u001b[38;5;132;01m}\u001b[39;00m\u001b[38;5;124m\"\u001b[39m)\n\u001b[0;32m---> 10\u001b[0m         \u001b[38;5;28mprint\u001b[39m(\u001b[43mcone_polys\u001b[49m\u001b[43m[\u001b[49m\u001b[43midx\u001b[49m\u001b[38;5;241;43m+\u001b[39;49m\u001b[43mInteger\u001b[49m\u001b[43m(\u001b[49m\u001b[38;5;241;43m1\u001b[39;49m\u001b[43m)\u001b[49m\u001b[43m]\u001b[49m(x0\u001b[38;5;241m=\u001b[39mp[Integer(\u001b[38;5;241m0\u001b[39m)], x1\u001b[38;5;241m=\u001b[39mp[Integer(\u001b[38;5;241m1\u001b[39m)], x2\u001b[38;5;241m=\u001b[39mp[Integer(\u001b[38;5;241m2\u001b[39m)], x3\u001b[38;5;241m=\u001b[39mp[Integer(\u001b[38;5;241m3\u001b[39m)]))\n\u001b[1;32m     11\u001b[0m     \u001b[38;5;28;01mcontinue\u001b[39;00m\n\u001b[1;32m     12\u001b[0m \u001b[38;5;28mprint\u001b[39m()\n",
      "\u001b[0;31mIndexError\u001b[0m: list index out of range"
     ]
    }
   ],
   "source": [
    "for p in rays:\n",
    "    print(f\"point: {p}\")\n",
    "    vertices = create_polytope_from_matrix(A, p).Vrepresentation()\n",
    "    ehr_poly = ehrhart_quasi_polynomial(vertices)\n",
    "    print(f\"{ehr_poly=}\")\n",
    "\n",
    "    for idx, cone in enumerate(cones):\n",
    "        if p in cone:\n",
    "            print(f\"cone idx: {idx}\")\n",
    "            print(cone_polys[idx+1](x0=p[0], x1=p[1], x2=p[2], x3=p[3]))\n",
    "        continue\n",
    "    print()"
   ]
  },
  {
   "cell_type": "code",
   "execution_count": null,
   "id": "a2608b65-d422-4e98-8750-800f27c12c3f",
   "metadata": {},
   "outputs": [],
   "source": [
    "from random import randint\n",
    "random_points = [sum(ray*randint(0, 3) for ray in rays) for k in range(10)]\n",
    "random_points"
   ]
  },
  {
   "cell_type": "code",
   "execution_count": null,
   "id": "ed6a1372-2a9d-4d4d-b466-896f5847d21e",
   "metadata": {},
   "outputs": [],
   "source": [
    "for p in random_points:\n",
    "    print(f\"point: {p}\")\n",
    "    vertices = create_polytope_from_matrix(A, p).Vrepresentation()\n",
    "    ehr_poly = ehrhart_quasi_polynomial(vertices)\n",
    "    print(f\"{ehr_poly=}\")\n",
    "\n",
    "    for idx, cone in enumerate(cones):\n",
    "        if p in cone:\n",
    "            print(f\"cone idx: {idx}\")\n",
    "            print(cone_polys[idx+1](x0=p[0], x1=p[1], x2=p[2], x3=p[3]))\n",
    "        continue\n",
    "    print()"
   ]
  },
  {
   "cell_type": "code",
   "execution_count": null,
   "id": "40bc9399-7bde-4cea-b7ba-278a94194488",
   "metadata": {},
   "outputs": [],
   "source": [
    "from collections.abc import Iterable\n",
    "def interpolation(self, bound, *args):\n",
    "        # get ring and number of variables\n",
    "        R = self.base_ring()\n",
    "        n = self.ngens()\n",
    "\n",
    "        # we only run the algorithm over fields\n",
    "        if not R.is_field():\n",
    "            raise TypeError(f'The base ring {R} is not a field.')\n",
    "\n",
    "        # helper function to sample \"num_samples\" elements from R\n",
    "        def sample_points(num_samples):\n",
    "            try:\n",
    "                samples = list(itertools.islice(R, num_samples))\n",
    "                if len(samples) < num_samples:\n",
    "                    raise ValueError(f'Could not sample {num_samples} different elements of {R}.')\n",
    "            except NotImplementedError:\n",
    "                if R.characteristic() == 0 or R.characteristic() >= num_samples:\n",
    "                    samples = [R(k) for k in range(num_samples)]\n",
    "                else:\n",
    "                    raise NotImplementedError(f'Could not sample {num_samples} different elements of {R}.')\n",
    "\n",
    "            return samples\n",
    "\n",
    "        # set points and values\n",
    "        if len(args) == 2:\n",
    "            points, values = args\n",
    "        else:\n",
    "            F, = args\n",
    "\n",
    "            if isinstance(bound, Iterable):\n",
    "                R_points = sample_points(max(bound) + 1)\n",
    "                points = list(itertools.product(*[R_points[:bound[i] + 1] for i in range(n)]))\n",
    "            else:\n",
    "                points = list(itertools.combinations_with_replacement(sample_points(bound + 1), n))\n",
    "\n",
    "            values = [F(*x) for x in points]\n",
    "\n",
    "        # find all possibly appearing exponents\n",
    "        if isinstance(bound, Iterable):\n",
    "            exponents_space = list(itertools.product(*(range(bound[i] + 1) for i in range(n))))\n",
    "        else:\n",
    "            exponents_space = []\n",
    "            for entry in itertools.combinations_with_replacement(range(bound + 1), n):\n",
    "                exponents_space.append([entry[0]] + [entry[i] - entry[i - 1] for i in range(1, n)])\n",
    "    \n",
    "        # build matrix\n",
    "        M = matrix.zero(R, 0, len(points))\n",
    "        for exponents in exponents_space:\n",
    "            M = M.stack(vector(R, [self.monomial(*exponents)(*x) for x in points]))\n",
    "\n",
    "        # solve for coefficients and construct polynomial\n",
    "        try:\n",
    "            coeff = M.solve_left(vector(R, values))\n",
    "        except ValueError:\n",
    "            raise ValueError('Could not find a solution.')\n",
    "        solution = sum(coeff[i] * self.monomial(*exponents_space[i]) for i in range(len(exponents_space)))\n",
    "\n",
    "        return solution"
   ]
  },
  {
   "cell_type": "code",
   "execution_count": null,
   "id": "782246c4-b2c4-4a08-a69e-3fdee8210d92",
   "metadata": {},
   "outputs": [],
   "source": []
  }
 ],
 "metadata": {
  "kernelspec": {
   "display_name": "SageMath 10.3",
   "language": "sage",
   "name": "sagemath"
  },
  "language_info": {
   "codemirror_mode": {
    "name": "ipython",
    "version": 3
   },
   "file_extension": ".py",
   "mimetype": "text/x-python",
   "name": "python",
   "nbconvert_exporter": "python",
   "pygments_lexer": "ipython3",
   "version": "3.10.12"
  }
 },
 "nbformat": 4,
 "nbformat_minor": 5
}
