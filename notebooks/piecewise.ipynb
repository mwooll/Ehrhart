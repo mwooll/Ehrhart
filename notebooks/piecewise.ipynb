{
 "cells": [
  {
   "cell_type": "code",
   "execution_count": 1,
   "id": "5d305ede-9fff-42d4-ab90-b069edd37eb0",
   "metadata": {},
   "outputs": [],
   "source": [
    "from itertools import combinations_with_replacement\n",
    "from ehrhart_quasi_polynomia import secondary_fan, ehrhart_quasi_polynomia, create_polyhedron_from_matrix"
   ]
  },
  {
   "cell_type": "code",
   "execution_count": 22,
   "id": "e2bceb24-475f-4928-925a-998867d83e13",
   "metadata": {},
   "outputs": [],
   "source": [
    "from sage.functions.other import factorial\n",
    "from sage.modules.free_module_element import free_module_element\n",
    "from sage.rings.polynomial.polynomial_ring_constructor import PolynomialRing"
   ]
  },
  {
   "cell_type": "code",
   "execution_count": 3,
   "id": "d02d9f58-49fd-4ac2-aa8c-bea406f86181",
   "metadata": {},
   "outputs": [],
   "source": [
    "from inspect import *"
   ]
  },
  {
   "cell_type": "code",
   "execution_count": 58,
   "id": "af90d21d-3ed2-431f-994b-f6cb02d9e080",
   "metadata": {},
   "outputs": [],
   "source": [
    "def generate_cone_points(cone, number):\n",
    "    dimension = cone._dim\n",
    "    amb_dim = cone._lattice._Module_free_ambient__degree\n",
    "\n",
    "    # print(f\"cone of dim = {dimension} in {amb_dim}d ambient space\")\n",
    "\n",
    "    if dimension == 0:\n",
    "        return [(0,)*amb_dim], 0\n",
    "\n",
    "    vectors = [free_module_element(list(ray)) for ray in cone._rays]\n",
    "\n",
    "    points = []\n",
    "    points_len = 0\n",
    "    index = 1\n",
    "    while points_len <= number:\n",
    "        new_points = [sum(combi) for combi in combinations_with_replacement(vectors, index)]\n",
    "        points += new_points\n",
    "        index += 1\n",
    "        points_len += len(new_points)\n",
    "    return points[points_len-number:]"
   ]
  },
  {
   "cell_type": "code",
   "execution_count": 5,
   "id": "ead7da16-bca4-4d4c-a888-fb96dfaba939",
   "metadata": {},
   "outputs": [
    {
     "data": {
      "text/plain": [
       "[0-d cone in 1-d lattice N,\n",
       " 1-d cone in 4-d lattice N,\n",
       " 1-d cone in 4-d lattice N,\n",
       " 1-d cone in 4-d lattice N,\n",
       " 2-d cone in 4-d lattice N,\n",
       " 2-d cone in 4-d lattice N]"
      ]
     },
     "execution_count": 5,
     "metadata": {},
     "output_type": "execute_result"
    }
   ],
   "source": [
    "A = Matrix([[-1, 0], [0, -1], [1, 1], [0, 1]])\n",
    "sec_fan = secondary_fan(A)\n",
    "cones = sec_fan[\"CONES\"]\n",
    "cones"
   ]
  },
  {
   "cell_type": "code",
   "execution_count": 6,
   "id": "07588d7b-a44d-464e-9052-eee513ee9053",
   "metadata": {},
   "outputs": [
    {
     "data": {
      "text/plain": [
       "(x0, x1, x2, x3)"
      ]
     },
     "execution_count": 6,
     "metadata": {},
     "output_type": "execute_result"
    }
   ],
   "source": [
    "R = PolynomialRing(QQ, \"x\", 4)\n",
    "R.gens()"
   ]
  },
  {
   "cell_type": "code",
   "execution_count": 7,
   "id": "621cd364-685c-4864-8ea1-4d7befc02080",
   "metadata": {},
   "outputs": [
    {
     "data": {
      "text/plain": [
       "x0^2 + x1*x2 + x3"
      ]
     },
     "execution_count": 7,
     "metadata": {},
     "output_type": "execute_result"
    }
   ],
   "source": [
    "f = lambda w, x, y, z: w**2 + x*y + z\n",
    "R.interpolation(2, f)"
   ]
  },
  {
   "cell_type": "code",
   "execution_count": 8,
   "id": "3e458e47-42fc-46e8-bb50-9734793af89e",
   "metadata": {},
   "outputs": [],
   "source": [
    "def get_terms_of_order(polynomials, order):\n",
    "    return [poly.coefficients()[order].constants()[0] if poly.degree() >= order else 0 for poly in polynomials]"
   ]
  },
  {
   "cell_type": "code",
   "execution_count": 9,
   "id": "99428dd5-ae04-4cef-87f4-e1125b441c7e",
   "metadata": {},
   "outputs": [],
   "source": [
    "def get_term_dict(A_matrix, points):\n",
    "    polynomials = []\n",
    "    for point in points:\n",
    "        polytope = create_polyhedron_from_matrix(A_matrix, point)\n",
    "        ehr_poly = ehrhart_quasi_polynomia(polytope.Vrepresentation(), True)\n",
    "        polynomials.append(ehr_poly)\n",
    "\n",
    "    max_degree = max(poly.degree() for poly in polynomials)\n",
    "    terms = {d: get_terms_of_order(polynomials, d) for d in range(max_degree + 1)}\n",
    "    return terms"
   ]
  },
  {
   "cell_type": "code",
   "execution_count": 55,
   "id": "3916893c-647e-424e-a281-94a34367b59b",
   "metadata": {},
   "outputs": [],
   "source": [
    "def _compute_piecewise(A_matrix, sec_fan):\n",
    "    num_variables = sec_fan[\"DIM\"]\n",
    "    max_degree = sec_fan[\"LINEALITY_DIM\"]\n",
    "\n",
    "    R = PolynomialRing(QQ, \"x\", 4)\n",
    "    S = PolynomialRing(R, \"k\")\n",
    "    k = S.gen()\n",
    "\n",
    "    cone_polys = []\n",
    "    for cone in sec_fan[\"CONES\"][1:]:\n",
    "        estimated_period = 1\n",
    "        needed_points = factorial(num_variables + max_degree)//( factorial(num_variables)*factorial(max_degree) )\n",
    "        cone_points = generate_cone_points(cone, needed_points)\n",
    "        term_dict = get_term_dict(A_matrix, cone_points)\n",
    "\n",
    "        cone_poly = 0\n",
    "        for degree, terms in term_dict.items():\n",
    "            try:\n",
    "                cone_poly += R.interpolation(max_degree, cone_points, terms)*k**degree\n",
    "            except:\n",
    "                return max_degree, cone_points, terms\n",
    "        print(cone_poly)\n",
    "        cone_polys.append(cone_poly)\n",
    "    return cone_polys\n",
    "        "
   ]
  },
  {
   "cell_type": "code",
   "execution_count": 59,
   "id": "1dadc368-e56e-4ab0-a368-66dd48765792",
   "metadata": {},
   "outputs": [
    {
     "name": "stdout",
     "output_type": "stream",
     "text": [
      "1\n",
      "21/8*x3^2*k^2 + 13/4*x3*k + 1\n",
      "9/2*x3^2*k^2 - 11/2*x3*k + 1\n"
     ]
    }
   ],
   "source": [
    "error = _compute_piecewise(A, sec_fan)"
   ]
  },
  {
   "cell_type": "code",
   "execution_count": 60,
   "id": "ed10a382-fb25-4087-b7a5-e0271c8b3cc6",
   "metadata": {},
   "outputs": [
    {
     "data": {
      "text/plain": [
       "(2,\n",
       " [(-3, -3, 6, 9),\n",
       "  (-1, -1, 7, 8),\n",
       "  (1, 1, 8, 7),\n",
       "  (3, 3, 9, 6),\n",
       "  (-4, -4, 8, 12),\n",
       "  (-2, -2, 9, 11),\n",
       "  (0, 0, 10, 10),\n",
       "  (2, 2, 11, 9),\n",
       "  (4, 4, 12, 8),\n",
       "  (-5, -5, 10, 15),\n",
       "  (-3, -3, 11, 14),\n",
       "  (-1, -1, 12, 13),\n",
       "  (1, 1, 13, 12),\n",
       "  (3, 3, 14, 11),\n",
       "  (5, 5, 15, 10)],\n",
       " [0, 15/2, 14, 39/2, 0, 15/2, 15, 41/2, 26, 0, 15/2, 15, 43/2, 27, 65/2])"
      ]
     },
     "execution_count": 60,
     "metadata": {},
     "output_type": "execute_result"
    }
   ],
   "source": [
    "error"
   ]
  },
  {
   "cell_type": "code",
   "execution_count": 51,
   "id": "40bc9399-7bde-4cea-b7ba-278a94194488",
   "metadata": {},
   "outputs": [],
   "source": [
    "from collections.abc import Iterable\n",
    "def interpolation(self, bound, *args):\n",
    "        # get ring and number of variables\n",
    "        R = self.base_ring()\n",
    "        n = self.ngens()\n",
    "\n",
    "        # we only run the algorithm over fields\n",
    "        if not R.is_field():\n",
    "            raise TypeError(f'The base ring {R} is not a field.')\n",
    "\n",
    "        # helper function to sample \"num_samples\" elements from R\n",
    "        def sample_points(num_samples):\n",
    "            try:\n",
    "                samples = list(itertools.islice(R, num_samples))\n",
    "                if len(samples) < num_samples:\n",
    "                    raise ValueError(f'Could not sample {num_samples} different elements of {R}.')\n",
    "            except NotImplementedError:\n",
    "                if R.characteristic() == 0 or R.characteristic() >= num_samples:\n",
    "                    samples = [R(k) for k in range(num_samples)]\n",
    "                else:\n",
    "                    raise NotImplementedError(f'Could not sample {num_samples} different elements of {R}.')\n",
    "\n",
    "            return samples\n",
    "\n",
    "        # set points and values\n",
    "        if len(args) == 2:\n",
    "            points, values = args\n",
    "        else:\n",
    "            F, = args\n",
    "\n",
    "            if isinstance(bound, Iterable):\n",
    "                R_points = sample_points(max(bound) + 1)\n",
    "                points = list(itertools.product(*[R_points[:bound[i] + 1] for i in range(n)]))\n",
    "            else:\n",
    "                points = list(itertools.combinations_with_replacement(sample_points(bound + 1), n))\n",
    "\n",
    "            values = [F(*x) for x in points]\n",
    "\n",
    "        # find all possibly appearing exponents\n",
    "        if isinstance(bound, Iterable):\n",
    "            exponents_space = list(itertools.product(*(range(bound[i] + 1) for i in range(n))))\n",
    "        else:\n",
    "            exponents_space = []\n",
    "            for entry in itertools.combinations_with_replacement(range(bound + 1), n):\n",
    "                exponents_space.append([entry[0]] + [entry[i] - entry[i - 1] for i in range(1, n)])\n",
    "    \n",
    "        # build matrix\n",
    "        M = matrix.zero(R, 0, len(points))\n",
    "        for exponents in exponents_space:\n",
    "            M = M.stack(vector(R, [self.monomial(*exponents)(*x) for x in points]))\n",
    "\n",
    "        # solve for coefficients and construct polynomial\n",
    "        try:\n",
    "            coeff = M.solve_left(vector(R, values))\n",
    "        except ValueError:\n",
    "            raise ValueError('Could not find a solution.')\n",
    "        solution = sum(coeff[i] * self.monomial(*exponents_space[i]) for i in range(len(exponents_space)))\n",
    "\n",
    "        return solution"
   ]
  },
  {
   "cell_type": "code",
   "execution_count": 19,
   "id": "6419f2d8-e232-4a94-bcb4-1a918ac38030",
   "metadata": {},
   "outputs": [],
   "source": [
    "R = PolynomialRing(QQ, \"x\", 4)"
   ]
  },
  {
   "cell_type": "code",
   "execution_count": 30,
   "id": "7d7c5841-d49e-4dcb-83f6-0d36813050cd",
   "metadata": {},
   "outputs": [
    {
     "data": {
      "text/plain": [
       "(2,\n",
       " [(-3, -3, 6, 9),\n",
       "  (-1, -1, 7, 8),\n",
       "  (1, 1, 8, 7),\n",
       "  (3, 3, 9, 6),\n",
       "  (-4, -4, 8, 12),\n",
       "  (-2, -2, 9, 11),\n",
       "  (0, 0, 10, 10),\n",
       "  (2, 2, 11, 9),\n",
       "  (4, 4, 12, 8),\n",
       "  (-5, -5, 10, 15),\n",
       "  (-3, -3, 11, 14),\n",
       "  (-1, -1, 12, 13),\n",
       "  (1, 1, 13, 12),\n",
       "  (3, 3, 14, 11),\n",
       "  (5, 5, 15, 10)],\n",
       " [0, 15/2, 14, 39/2, 0, 15/2, 15, 41/2, 26, 0, 15/2, 15, 43/2, 27, 65/2])"
      ]
     },
     "execution_count": 30,
     "metadata": {},
     "output_type": "execute_result"
    }
   ],
   "source": [
    "error"
   ]
  },
  {
   "cell_type": "code",
   "execution_count": 44,
   "id": "0525ddec-9dcd-4513-91b5-b4658c3db938",
   "metadata": {},
   "outputs": [
    {
     "data": {
      "text/plain": [
       "[[0, 0, 0, 0],\n",
       " [0, 0, 0, 1],\n",
       " [0, 0, 0, 2],\n",
       " [0, 0, 1, 0],\n",
       " [0, 0, 1, 1],\n",
       " [0, 0, 2, 0],\n",
       " [0, 1, 0, 0],\n",
       " [0, 1, 0, 1],\n",
       " [0, 1, 1, 0],\n",
       " [0, 2, 0, 0],\n",
       " [1, 0, 0, 0],\n",
       " [1, 0, 0, 1],\n",
       " [1, 0, 1, 0],\n",
       " [1, 1, 0, 0],\n",
       " [2, 0, 0, 0]]"
      ]
     },
     "execution_count": 44,
     "metadata": {},
     "output_type": "execute_result"
    }
   ],
   "source": [
    "exponents_space"
   ]
  },
  {
   "cell_type": "code",
   "execution_count": 47,
   "id": "43607e72-d05d-4ad2-858c-6585937e9d44",
   "metadata": {},
   "outputs": [
    {
     "data": {
      "text/plain": [
       "[  1   1   1   1   1   1   1   1   1   1   1   1   1   1   1]\n",
       "[  9   8   7   6  12  11  10   9   8  15  14  13  12  11  10]\n",
       "[ 81  64  49  36 144 121 100  81  64 225 196 169 144 121 100]\n",
       "[  6   7   8   9   8   9  10  11  12  10  11  12  13  14  15]\n",
       "[ 54  56  56  54  96  99 100  99  96 150 154 156 156 154 150]\n",
       "[ 36  49  64  81  64  81 100 121 144 100 121 144 169 196 225]\n",
       "[ -3  -1   1   3  -4  -2   0   2   4  -5  -3  -1   1   3   5]\n",
       "[-27  -8   7  18 -48 -22   0  18  32 -75 -42 -13  12  33  50]\n",
       "[-18  -7   8  27 -32 -18   0  22  48 -50 -33 -12  13  42  75]\n",
       "[  9   1   1   9  16   4   0   4  16  25   9   1   1   9  25]\n",
       "[ -3  -1   1   3  -4  -2   0   2   4  -5  -3  -1   1   3   5]\n",
       "[-27  -8   7  18 -48 -22   0  18  32 -75 -42 -13  12  33  50]\n",
       "[-18  -7   8  27 -32 -18   0  22  48 -50 -33 -12  13  42  75]\n",
       "[  9   1   1   9  16   4   0   4  16  25   9   1   1   9  25]\n",
       "[  9   1   1   9  16   4   0   4  16  25   9   1   1   9  25]"
      ]
     },
     "execution_count": 47,
     "metadata": {},
     "output_type": "execute_result"
    }
   ],
   "source": [
    "M"
   ]
  },
  {
   "cell_type": "code",
   "execution_count": 61,
   "id": "b283326e-6daf-40e9-98b1-703a07936b37",
   "metadata": {},
   "outputs": [
    {
     "name": "stdout",
     "output_type": "stream",
     "text": [
      "[1, 1, 1, 1, 1, 1, 1, 1, 1, 1, 1, 1, 1, 1, 1]\n",
      "[9, 8, 7, 6, 12, 11, 10, 9, 8, 15, 14, 13, 12, 11, 10]\n",
      "[81, 64, 49, 36, 144, 121, 100, 81, 64, 225, 196, 169, 144, 121, 100]\n",
      "[6, 7, 8, 9, 8, 9, 10, 11, 12, 10, 11, 12, 13, 14, 15]\n",
      "[54, 56, 56, 54, 96, 99, 100, 99, 96, 150, 154, 156, 156, 154, 150]\n",
      "[36, 49, 64, 81, 64, 81, 100, 121, 144, 100, 121, 144, 169, 196, 225]\n",
      "[-3, -1, 1, 3, -4, -2, 0, 2, 4, -5, -3, -1, 1, 3, 5]\n",
      "[-27, -8, 7, 18, -48, -22, 0, 18, 32, -75, -42, -13, 12, 33, 50]\n",
      "[-18, -7, 8, 27, -32, -18, 0, 22, 48, -50, -33, -12, 13, 42, 75]\n",
      "[9, 1, 1, 9, 16, 4, 0, 4, 16, 25, 9, 1, 1, 9, 25]\n",
      "[-3, -1, 1, 3, -4, -2, 0, 2, 4, -5, -3, -1, 1, 3, 5]\n",
      "[-27, -8, 7, 18, -48, -22, 0, 18, 32, -75, -42, -13, 12, 33, 50]\n",
      "[-18, -7, 8, 27, -32, -18, 0, 22, 48, -50, -33, -12, 13, 42, 75]\n",
      "[9, 1, 1, 9, 16, 4, 0, 4, 16, 25, 9, 1, 1, 9, 25]\n",
      "[9, 1, 1, 9, 16, 4, 0, 4, 16, 25, 9, 1, 1, 9, 25]\n"
     ]
    },
    {
     "data": {
      "text/plain": [
       "[  1   1   1   1   1   1   1   1   1   1   1   1   1   1   1]\n",
       "[  9   8   7   6  12  11  10   9   8  15  14  13  12  11  10]\n",
       "[ 81  64  49  36 144 121 100  81  64 225 196 169 144 121 100]\n",
       "[  6   7   8   9   8   9  10  11  12  10  11  12  13  14  15]\n",
       "[ 54  56  56  54  96  99 100  99  96 150 154 156 156 154 150]\n",
       "[ 36  49  64  81  64  81 100 121 144 100 121 144 169 196 225]\n",
       "[ -3  -1   1   3  -4  -2   0   2   4  -5  -3  -1   1   3   5]\n",
       "[-27  -8   7  18 -48 -22   0  18  32 -75 -42 -13  12  33  50]\n",
       "[-18  -7   8  27 -32 -18   0  22  48 -50 -33 -12  13  42  75]\n",
       "[  9   1   1   9  16   4   0   4  16  25   9   1   1   9  25]\n",
       "[ -3  -1   1   3  -4  -2   0   2   4  -5  -3  -1   1   3   5]\n",
       "[-27  -8   7  18 -48 -22   0  18  32 -75 -42 -13  12  33  50]\n",
       "[-18  -7   8  27 -32 -18   0  22  48 -50 -33 -12  13  42  75]\n",
       "[  9   1   1   9  16   4   0   4  16  25   9   1   1   9  25]\n",
       "[  9   1   1   9  16   4   0   4  16  25   9   1   1   9  25]"
      ]
     },
     "execution_count": 61,
     "metadata": {},
     "output_type": "execute_result"
    }
   ],
   "source": [
    "interpolation(R, 2, error[1], error[2])"
   ]
  }
 ],
 "metadata": {
  "kernelspec": {
   "display_name": "SageMath 10.3",
   "language": "sage",
   "name": "sagemath"
  },
  "language_info": {
   "codemirror_mode": {
    "name": "ipython",
    "version": 3
   },
   "file_extension": ".py",
   "mimetype": "text/x-python",
   "name": "python",
   "nbconvert_exporter": "python",
   "pygments_lexer": "ipython3",
   "version": "3.10.12"
  }
 },
 "nbformat": 4,
 "nbformat_minor": 5
}
