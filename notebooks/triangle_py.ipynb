{
 "cells": [
  {
   "cell_type": "code",
   "execution_count": 1,
   "id": "9aef1301",
   "metadata": {},
   "outputs": [
    {
     "ename": "ModuleNotFoundError",
     "evalue": "No module named 'ehrhart_polynomial'",
     "output_type": "error",
     "traceback": [
      "\u001b[0;31m---------------------------------------------------------------------------\u001b[0m",
      "\u001b[0;31mModuleNotFoundError\u001b[0m                       Traceback (most recent call last)",
      "Cell \u001b[0;32mIn[1], line 1\u001b[0m\n\u001b[0;32m----> 1\u001b[0m \u001b[38;5;28;01mfrom\u001b[39;00m \u001b[38;5;21;01mehrhart_polynomial\u001b[39;00m \u001b[38;5;28;01mimport\u001b[39;00m \u001b[38;5;241m*\u001b[39m\n",
      "\u001b[0;31mModuleNotFoundError\u001b[0m: No module named 'ehrhart_polynomial'"
     ]
    }
   ],
   "source": [
    "from ehrhart_polynomial import *"
   ]
  },
  {
   "cell_type": "markdown",
   "id": "4e16fe83",
   "metadata": {},
   "source": [
    "## Right Isosceles Triangle"
   ]
  },
  {
   "cell_type": "code",
   "execution_count": null,
   "id": "b398f08b",
   "metadata": {},
   "outputs": [],
   "source": [
    "B = PolynomialRing(QQ, \"b\")\n",
    "b = B.gen()\n",
    "\n",
    "T = PolynomialRing(B, \"t\")\n",
    "t = T.gen()"
   ]
  },
  {
   "cell_type": "code",
   "execution_count": null,
   "id": "47fb99fc",
   "metadata": {},
   "outputs": [],
   "source": [
    "A = Matrix([[-1,  0],\n",
    "            [ 0, -1],\n",
    "            [ 1,  1]])\n",
    "b = free_module_element([0, 0, 0])"
   ]
  },
  {
   "cell_type": "code",
   "execution_count": null,
   "id": "ca18c63f",
   "metadata": {},
   "outputs": [],
   "source": [
    "def create_polyhedron(A, b):\n",
    "    \"\"\"  Ax <= b  \"\"\"\n",
    "    inequalities = [[b[k]] + list(-A.rows()[k]) for k in range(A.nrows())]\n",
    "    return Polyhedron(ieqs = inequalities)"
   ]
  },
  {
   "cell_type": "code",
   "execution_count": null,
   "id": "1a8edcf0",
   "metadata": {},
   "outputs": [],
   "source": [
    "tri = create_polyhedron(A, b)\n",
    "tri.plot()"
   ]
  },
  {
   "cell_type": "code",
   "execution_count": null,
   "id": "83e1b841",
   "metadata": {},
   "outputs": [],
   "source": [
    "print(ehrhart_polynomial(tri.Vrepresentation()))"
   ]
  },
  {
   "cell_type": "code",
   "execution_count": null,
   "id": "abcee92d",
   "metadata": {},
   "outputs": [],
   "source": [
    "def modular_b(A, base_b, indeces=[0], expected_degree=2):\n",
    "    dim_points = A.ncols()\n",
    "    dim_b = len(base_b)\n",
    "    mins, maxs = [0]*dim_b, [0]*dim_b\n",
    "    value = expected_degree\n",
    "    for index in indeces:\n",
    "        maxs[index] = value\n",
    "\n",
    "    return get_bounding_box(mins, maxs, 1)"
   ]
  },
  {
   "cell_type": "code",
   "execution_count": null,
   "id": "42866735",
   "metadata": {},
   "outputs": [],
   "source": [
    "g = Graphics()\n",
    "points = modular_b(A, b, indeces=[2], expected_degree=5)\n",
    "for point in points:\n",
    "    print(f\"for delta_b = {point}:\")\n",
    "    qoly = create_polyhedron(A, b + free_module_element(point))\n",
    "    g += qoly.plot()\n",
    "    print(ehrhart_polynomial(qoly.Vrepresentation()))\n",
    "    print()\n",
    "g.show()"
   ]
  },
  {
   "cell_type": "code",
   "execution_count": null,
   "id": "1166b436",
   "metadata": {},
   "outputs": [],
   "source": [
    "linear_term = B.lagrange_polynomial([[0, 1.5], [1, 3], [2, 4.5]])\n",
    "quadratic_term = B.lagrange_polynomial([[0, 0.5], [1, 2.0], [2, 4.5], [3, 8.0]])\n",
    "print(f\"linear term: {linear_term}\")\n",
    "print(f\"quadratic term: {quadratic_term}\")"
   ]
  },
  {
   "cell_type": "code",
   "execution_count": null,
   "id": "3b5129f2",
   "metadata": {},
   "outputs": [],
   "source": [
    "poly = 1 + linear_term*t + quadratic_term*t**2\n",
    "print(\"The general ehrhart polynomial of this family of triangles is:\")\n",
    "print(\"\\t\", poly)\n",
    "print(\"Where b is the third element of the b-vector, and t is the scaling coefficient of the ehrhart polynomial.\")"
   ]
  },
  {
   "cell_type": "markdown",
   "id": "3779e97a",
   "metadata": {},
   "source": [
    "## Right Triangle"
   ]
  },
  {
   "cell_type": "code",
   "execution_count": 2,
   "id": "21c1646d-4339-45f9-8572-93a94be415e6",
   "metadata": {},
   "outputs": [],
   "source": [
    "# use Pick's Theorem"
   ]
  }
 ],
 "metadata": {
  "kernelspec": {
   "display_name": "Python 3 (ipykernel)",
   "language": "python",
   "name": "python3"
  },
  "language_info": {
   "codemirror_mode": {
    "name": "ipython",
    "version": 3
   },
   "file_extension": ".py",
   "mimetype": "text/x-python",
   "name": "python",
   "nbconvert_exporter": "python",
   "pygments_lexer": "ipython3",
   "version": "3.10.12"
  }
 },
 "nbformat": 4,
 "nbformat_minor": 5
}
