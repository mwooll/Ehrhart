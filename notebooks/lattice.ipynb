{
 "cells": [
  {
   "cell_type": "code",
   "execution_count": 1,
   "id": "b12ef564-d7a3-405e-a343-553d57aefdb2",
   "metadata": {},
   "outputs": [
    {
     "name": "stdout",
     "output_type": "stream",
     "text": [
      "from sage.matrix.special import diagonal_matrix\n"
     ]
    }
   ],
   "source": [
    "import_statements(diagonal_matrix)"
   ]
  },
  {
   "cell_type": "code",
   "execution_count": 2,
   "id": "336c2638-275d-4162-84b2-1165495a7d3d",
   "metadata": {},
   "outputs": [],
   "source": [
    "from itertools import combinations_with_replacement\n",
    "\n",
    "from ehrhart_quasi_polynomial import get_period, get_gcd, create_polytope_from_matrix\n",
    "from ehrhart_quasi_polynomial import ehrhart_quasi_polynomial\n",
    "from ehrhart_quasi_polynomial import PiecewiseEhrhartQuasiPolynomial as PEQP\n",
    "from ehrhart_quasi_polynomial import *\n",
    "\n",
    "from sage.interfaces.gfan import gfan\n",
    "from sage.matrix.constructor import Matrix as create_matrix\n",
    "from sage.rings.polynomial.groebner_fan import PolyhedralFan"
   ]
  },
  {
   "cell_type": "code",
   "execution_count": 3,
   "id": "cbdb27d5-f848-4510-b14b-1b636a705e8a",
   "metadata": {},
   "outputs": [],
   "source": [
    "ehr = lambda A, b: ehrhart_quasi_polynomial(create_polytope_from_matrix(A, b).Vrepresentation())"
   ]
  },
  {
   "cell_type": "code",
   "execution_count": 4,
   "id": "7df2e2dc-d8e3-4a55-93be-a0508ebc27c5",
   "metadata": {},
   "outputs": [
    {
     "name": "stdout",
     "output_type": "stream",
     "text": [
      "all points were tested\n"
     ]
    }
   ],
   "source": [
    "A = Matrix([[-1, 0], [0, -1], [1, 1]])\n",
    "p = PEQP(A) \n",
    "for b in combinations_with_replacement(range(-5, 6), 3):\n",
    "    expected = ehr(A, b)(1)\n",
    "    actual = p(b)\n",
    "    if actual != expected:\n",
    "        print(b, expected, actual)\n",
    "print(\"all points were tested\")"
   ]
  },
  {
   "cell_type": "code",
   "execution_count": 5,
   "id": "7d607f1f-c899-415f-a570-02b31873d017",
   "metadata": {},
   "outputs": [
    {
     "data": {
      "text/plain": [
       "{'AMBIENT_DIM': ['3'],\n",
       " 'DIM': ['3'],\n",
       " 'LINEALITY_DIM': ['2'],\n",
       " 'RAYS': ['1 1 1\\t# 0'],\n",
       " 'N_RAYS': ['1'],\n",
       " 'LINEALITY_SPACE': ['1 0 -1', '0 1 -1'],\n",
       " 'ORTH_LINEALITY_SPACE': ['1 1 1'],\n",
       " 'F_VECTOR': ['1 1'],\n",
       " 'SIMPLICIAL': ['1'],\n",
       " 'PURE': ['1'],\n",
       " 'CONES': ['{}\\t# Dimension 2', '{0}\\t# Dimension 3'],\n",
       " 'MAXIMAL_CONES': ['{0}\\t# Dimension 3']}"
      ]
     },
     "execution_count": 5,
     "metadata": {},
     "output_type": "execute_result"
    }
   ],
   "source": [
    "p._sec_fan.fan_dict"
   ]
  },
  {
   "cell_type": "code",
   "execution_count": 6,
   "id": "b2b1bd7d-0c29-42fa-a625-2d95d935b09b",
   "metadata": {},
   "outputs": [
    {
     "data": {
      "text/plain": [
       "{'rays': [(1, 1, 1)],\n",
       " 'cone': 1-d cone in 3-d lattice N,\n",
       " 'scalars': [1],\n",
       " 'scaled_rays': [(1, 1, 1)],\n",
       " 'quotient': Finitely generated module V/W over Integer Ring with invariants (3),\n",
       " 'polynomials': {(0): 1/2*x0^2 + x0*x1 + 1/2*x1^2 + x0*x2 + x1*x2 + 1/2*x2^2 + 3/2*x0 + 3/2*x1 + 3/2*x2 + 1,\n",
       "  (1): 1/2*x0^2 + x0*x1 + 1/2*x1^2 + x0*x2 + x1*x2 + 1/2*x2^2 + 3/2*x0 + 3/2*x1 + 3/2*x2 + 1,\n",
       "  (2): 1/2*x0^2 + x0*x1 + 1/2*x1^2 + x0*x2 + x1*x2 + 1/2*x2^2 + 3/2*x0 + 3/2*x1 + 3/2*x2 + 1}}"
      ]
     },
     "execution_count": 6,
     "metadata": {},
     "output_type": "execute_result"
    }
   ],
   "source": [
    "p._cone_dicts[0]"
   ]
  },
  {
   "cell_type": "code",
   "execution_count": 7,
   "id": "8ee76621-7ed4-4459-91c1-860ceb88d082",
   "metadata": {},
   "outputs": [],
   "source": [
    "B = Matrix([[-1, 0], [0, -1], [2, 2]])\n",
    "\n",
    "q = PEQP(B)\n",
    "l1, l2 = q._lin_vectors\n",
    "r1 = q._cone_dicts[0][\"scaled_rays\"]\n",
    "r1 = free_module_element(r1[0])"
   ]
  },
  {
   "cell_type": "code",
   "execution_count": 8,
   "id": "8e108133-f38d-45ca-8f79-7b14e268d576",
   "metadata": {},
   "outputs": [
    {
     "data": {
      "text/plain": [
       "Multivariate Polynomial Ring in x0, x1, x2 over Rational Field"
      ]
     },
     "execution_count": 8,
     "metadata": {},
     "output_type": "execute_result"
    }
   ],
   "source": [
    "q._cone_dicts[0][\"polynomials\"][q._cone_dicts[0][\"quotient\"]((b))].parent()"
   ]
  },
  {
   "cell_type": "code",
   "execution_count": 9,
   "id": "4ea2be81-2437-462e-91b7-defc03da224f",
   "metadata": {},
   "outputs": [
    {
     "data": {
      "text/plain": [
       "((4, 4, 2), (1, 0, -2), (0, 1, -2))"
      ]
     },
     "execution_count": 9,
     "metadata": {},
     "output_type": "execute_result"
    }
   ],
   "source": [
    "r1, l1, l2"
   ]
  },
  {
   "cell_type": "code",
   "execution_count": 10,
   "id": "dadc7b99-b302-4906-8bec-8f99d3226dae",
   "metadata": {},
   "outputs": [
    {
     "data": {
      "text/plain": [
       "[(2, 2, 1)]"
      ]
     },
     "execution_count": 10,
     "metadata": {},
     "output_type": "execute_result"
    }
   ],
   "source": [
    "q._cone_dicts[0][\"rays\"]"
   ]
  },
  {
   "cell_type": "code",
   "execution_count": 13,
   "id": "18e78740-4cf9-47a2-a67f-8ec50abdb3f8",
   "metadata": {},
   "outputs": [],
   "source": [
    "def investigate(self, point):\n",
    "        if len(point) != self._amb_dim:\n",
    "            raise ValueError(\"Dimension of ``point`` needs to be equal to the ambient\"\n",
    "                             f\" dimension of ``self`` which is {self._amb_dim}.\")\n",
    "\n",
    "        proj = self._projection(point)\n",
    "        for k, cone_dict in enumerate(self._cone_dicts):\n",
    "            if proj in cone_dict[\"cone\"]:\n",
    "                off_set = cone_dict[\"quotient\"](point)\n",
    "                print(cone_dict[\"polynomials\"][off_set].parent())\n",
    "                return (k, off_set, cone_dict[\"polynomials\"][off_set],\n",
    "                        cone_dict[\"polynomials\"][off_set](point) )\n",
    "q.investigate = investigate"
   ]
  },
  {
   "cell_type": "code",
   "execution_count": 14,
   "id": "59aff2b6-aae4-4550-87bd-72a7b2587cc0",
   "metadata": {},
   "outputs": [
    {
     "name": "stdout",
     "output_type": "stream",
     "text": [
      "(2, 3, 10)\n",
      "Multivariate Polynomial Ring in x0, x1, x2 over Rational Field\n",
      "(0, (14), 0, 0)\n",
      "1 [[1], [15], [50]] 66\n",
      "(6, 7, 12)\n",
      "Multivariate Polynomial Ring in x0, x1, x2 over Rational Field\n",
      "(0, (14), 0, 0)\n",
      "1 [[1], [57/2], [361/2]] 210\n",
      "(10, 11, 14)\n",
      "Multivariate Polynomial Ring in x0, x1, x2 over Rational Field\n",
      "(0, (14), 0, 0)\n",
      "1 [[1], [42], [392]] 435\n"
     ]
    }
   ],
   "source": [
    "point = free_module_element([2, 3, 10])\n",
    "for i in range(0, 3):\n",
    "        b = tuple(point + i*r1)\n",
    "        print(b)\n",
    "        print(q.investigate(q, b))\n",
    "\n",
    "        vertices = create_polytope_from_matrix(B, b).Vrepresentation()\n",
    "        period = get_period(vertices)\n",
    "        ehrhart = ehrhart_quasi_polynomial(vertices)\n",
    "        print(period, [coef.constants() for coef in ehrhart._coefficients], ehrhart(1))"
   ]
  },
  {
   "cell_type": "code",
   "execution_count": null,
   "id": "445e7985-3273-4c26-b7d6-3066fc9c1d6e",
   "metadata": {},
   "outputs": [],
   "source": [
    "def _generate_cone_points(self, scaled_cone_rays, number):\n",
    "        points = [self._origin]\n",
    "        points_len = 0\n",
    "        index = 1\n",
    "        while points_len <= number:\n",
    "            new_points = [sum(combi) for combi\n",
    "                          in combinations_with_replacement(scaled_cone_rays, index)]\n",
    "            points += new_points\n",
    "            index += 1\n",
    "            points_len += len(new_points)\n",
    "        return points[:number]"
   ]
  },
  {
   "cell_type": "code",
   "execution_count": 20,
   "id": "05571a4a-ebf6-4712-bc4d-edb9270ad1c8",
   "metadata": {},
   "outputs": [
    {
     "name": "stdout",
     "output_type": "stream",
     "text": [
      "True\n",
      "False\n",
      "False\n",
      "False\n",
      "False\n",
      "False\n",
      "False\n",
      "False\n",
      "False\n",
      "False\n",
      "False\n",
      "False\n",
      "False\n",
      "False\n",
      "False\n",
      "False\n",
      "False\n",
      "False\n",
      "True\n",
      "False\n",
      "False\n",
      "False\n",
      "False\n",
      "False\n",
      "False\n",
      "False\n",
      "False\n",
      "False\n",
      "False\n",
      "False\n",
      "False\n",
      "False\n",
      "False\n",
      "False\n",
      "False\n",
      "False\n",
      "True\n",
      "False\n",
      "False\n",
      "False\n",
      "False\n",
      "False\n",
      "False\n",
      "False\n",
      "False\n",
      "False\n",
      "False\n",
      "False\n",
      "False\n",
      "False\n",
      "False\n",
      "False\n",
      "False\n",
      "False\n",
      "True\n",
      "False\n",
      "False\n",
      "False\n",
      "False\n",
      "False\n",
      "False\n",
      "False\n",
      "False\n",
      "False\n",
      "False\n",
      "False\n",
      "False\n",
      "False\n",
      "False\n",
      "False\n",
      "False\n",
      "False\n",
      "True\n",
      "False\n",
      "False\n",
      "False\n",
      "False\n",
      "False\n",
      "False\n",
      "False\n",
      "False\n",
      "False\n",
      "False\n",
      "False\n",
      "False\n",
      "False\n",
      "False\n",
      "False\n",
      "False\n",
      "False\n"
     ]
    }
   ],
   "source": [
    "cone = q._cone_dicts[0][\"cone\"]\n",
    "off_sets = q._cone_dicts[0][\"quotient\"]\n",
    "for s in q._generate_cone_points([r1], 5):\n",
    "    for off in off_sets:\n",
    "        print(s + off.lift() in cone)"
   ]
  }
 ],
 "metadata": {
  "kernelspec": {
   "display_name": "SageMath 10.3",
   "language": "sage",
   "name": "sagemath"
  },
  "language_info": {
   "codemirror_mode": {
    "name": "ipython",
    "version": 3
   },
   "file_extension": ".py",
   "mimetype": "text/x-python",
   "name": "python",
   "nbconvert_exporter": "python",
   "pygments_lexer": "ipython3",
   "version": "3.10.12"
  }
 },
 "nbformat": 4,
 "nbformat_minor": 5
}
