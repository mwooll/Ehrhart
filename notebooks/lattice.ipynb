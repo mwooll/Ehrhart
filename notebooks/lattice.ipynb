{
 "cells": [
  {
   "cell_type": "code",
   "execution_count": 1,
   "id": "b12ef564-d7a3-405e-a343-553d57aefdb2",
   "metadata": {},
   "outputs": [
    {
     "name": "stdout",
     "output_type": "stream",
     "text": [
      "# ** Warning **: several names for that object: Z, ZZ\n",
      "from sage.rings.integer_ring import Z\n"
     ]
    }
   ],
   "source": [
    "import_statements(ZZ)"
   ]
  },
  {
   "cell_type": "code",
   "execution_count": 43,
   "id": "336c2638-275d-4162-84b2-1165495a7d3d",
   "metadata": {},
   "outputs": [],
   "source": [
    "from itertools import combinations_with_replacement\n",
    "\n",
    "from ehrhart_quasi_polynomial import get_period, get_gcd, create_polytope_from_matrix\n",
    "from ehrhart_quasi_polynomial import ehrhart_quasi_polynomial as ehr\n",
    "from ehrhart_quasi_polynomial import PiecewiseEhrhartQuasiPolynomial as PEQP\n",
    "\n",
    "from sage.interfaces.gfan import gfan\n",
    "from sage.matrix.constructor import Matrix as create_matrix\n",
    "from sage.rings.polynomial.groebner_fan import PolyhedralFan"
   ]
  },
  {
   "cell_type": "code",
   "execution_count": 35,
   "id": "9f37ecf4-ff7b-4ac8-a7f7-e0e8244072ef",
   "metadata": {},
   "outputs": [],
   "source": [
    "A = Matrix([[-1, 0], [0, -1], [1, 1], [0, 1]])\n",
    "PEQP = PiecewiseEhrhartQuasiPolynomial\n",
    "p = PEQP(A)"
   ]
  },
  {
   "cell_type": "code",
   "execution_count": 56,
   "id": "4fc395aa-818e-4ae0-b318-2dc9d9e4b492",
   "metadata": {},
   "outputs": [],
   "source": [
    "def _compute_piecewise(self):\n",
    "        num_variables = self._A.nrows()\n",
    "        max_degree = num_variables - self._sec_fan.lineality_dim()\n",
    "\n",
    "        R = PolynomialRing(QQ, \"x\", num_variables)\n",
    "        x_vars = R.gens()\n",
    "\n",
    "        for idx, cone_dict in enumerate(self._cone_dicts):\n",
    "            cone_rays = cone_dict[\"rays\"]\n",
    "\n",
    "            red_cone, dimensions_removed = self._remove_zero_dimensions(cone_rays)\n",
    "            actual_num_variables = num_variables - len(dimensions_removed)\n",
    "\n",
    "            needed_points = factorial(actual_num_variables + max_degree)//(\n",
    "                factorial(actual_num_variables)*factorial(max_degree) )\n",
    "\n",
    "            interpolation_variables = [x for dim, x in enumerate(x_vars)\n",
    "                                       if dim not in dimensions_removed]\n",
    "            T = PolynomialRing(QQ, names=interpolation_variables)\n",
    "\n",
    "            scaled_rays_removed = [free_module_element(p for dim, p in enumerate(ray)\n",
    "                                                       if dim not in dimensions_removed)\n",
    "                                   for ray in cone_dict[\"scaled_rays\"]]\n",
    "            cone_points = self._generate_cone_points(scaled_rays_removed,\n",
    "                                                     needed_points)\n",
    "\n",
    "            polynomials = {}\n",
    "            for off_set in cone_dict[\"quotient\"]:\n",
    "                lifted = off_set.lift()\n",
    "                lifted = free_module_element(off for dim, off in enumerate(lifted)\n",
    "                                             if dim not in dimensions_removed)\n",
    "                off_cone_points = [p + lifted + scaled_rays_removed[1] for p in cone_points]\n",
    "\n",
    "                num_integral_points = []\n",
    "                for point in off_cone_points:\n",
    "                    polytope = self._create_polytope_from_matrix(point)\n",
    "                    num_integral_points.append(len(polytope.integral_points()))\n",
    "\n",
    "                #return max_degree, off_cone_points, num_integral_points\n",
    "                interpolated = T.interpolation(max_degree, off_cone_points,\n",
    "                                               num_integral_points)\n",
    "                polynomials[tuple(lifted)] = interpolated\n",
    "\n",
    "                # off_set_poly = interpolated(*self._projection(x_vars))\n",
    "                # polynomials[tuple(lifted)] = off_set_poly\n",
    "            self._cone_dicts[idx][\"pre_projected\"] = polynomials\n",
    "            # self._cone_dicts[idx][\"lifted\"] = polynomials"
   ]
  },
  {
   "cell_type": "code",
   "execution_count": 63,
   "id": "5a247627-2a34-43b5-b653-1410f549d996",
   "metadata": {},
   "outputs": [],
   "source": [
    "# TODO: make this work using the lattices\n",
    "def _find_offset(self, point, cone_idx):\n",
    "\n",
    "        projected = self._projected_coordinates(point)\n",
    "        off_set = sum( (projected[k] - int(projected[k]))*o_vec\n",
    "                      for k, o_vec in enumerate(self._scaled_rays[cone_idx]))\n",
    "        return tuple(int(val) for val in off_set)\n",
    "\n",
    "def __call__(self, point):\n",
    "        return self.evaluate(point)\n",
    "\n",
    "def evaluate(self, point):\n",
    "        if len(point) != self._amb_dim:\n",
    "            raise ValueError(\"Dimension of ``point`` needs to be equal to the ambient\"\n",
    "                             f\" dimension of ``self`` which is {self._amb_dim}\")\n",
    "\n",
    "        proj = self._projection(point)\n",
    "        for idx, cone in enumerate(self._max_cones):\n",
    "            if proj in cone:\n",
    "\n",
    "                off_set = _find_offset(point, idx)\n",
    "                return off_set\n",
    "                # return self._qps[idx][off_set](point)\n",
    "        return 0"
   ]
  },
  {
   "cell_type": "code",
   "execution_count": 57,
   "id": "1894bc76-3adf-43d1-b69e-3cfe96a1f5d5",
   "metadata": {},
   "outputs": [],
   "source": [
    "_compute_piecewise(p)"
   ]
  },
  {
   "cell_type": "code",
   "execution_count": 62,
   "id": "3e3e48d8-6fd8-4b95-b313-dbec6cafe4de",
   "metadata": {},
   "outputs": [
    {
     "data": {
      "text/plain": [
       "{(0, 0, 0, 0): 5/2*x2^2 + 5*x2*x3 + 7/2*x2 + 2*x3 + 1,\n",
       " (0, 1, 0, 1): 5/2*x2^2 + 5*x2*x3 + 7/2*x2 + 2*x3 + 1,\n",
       " (0, 2, 0, 2): 5/2*x2^2 + 5*x2*x3 + 7/2*x2 + 2*x3 + 1,\n",
       " (0, 3, 0, 3): 5/2*x2^2 + 5*x2*x3 + 7/2*x2 + 2*x3 + 1,\n",
       " (0, 4, 0, 4): 5/2*x2^2 + 5*x2*x3 + 7/2*x2 + 2*x3 + 1}"
      ]
     },
     "execution_count": 62,
     "metadata": {},
     "output_type": "execute_result"
    }
   ],
   "source": [
    "p._cone_dicts[1][\"pre_projected\"]"
   ]
  },
  {
   "cell_type": "code",
   "execution_count": 64,
   "id": "06704cff-b10d-4dca-936b-8876d0b81dac",
   "metadata": {},
   "outputs": [
    {
     "ename": "AttributeError",
     "evalue": "'PiecewiseEhrhartQuasiPolynomial' object has no attribute '_max_cones'",
     "output_type": "error",
     "traceback": [
      "\u001b[0;31m---------------------------------------------------------------------------\u001b[0m",
      "\u001b[0;31mAttributeError\u001b[0m                            Traceback (most recent call last)",
      "Cell \u001b[0;32mIn[64], line 1\u001b[0m\n\u001b[0;32m----> 1\u001b[0m \u001b[43mp\u001b[49m\u001b[38;5;241;43m.\u001b[39;49m\u001b[43mevaluate\u001b[49m\u001b[43m(\u001b[49m\u001b[43m[\u001b[49m\u001b[43mInteger\u001b[49m\u001b[43m(\u001b[49m\u001b[38;5;241;43m0\u001b[39;49m\u001b[43m)\u001b[49m\u001b[43m,\u001b[49m\u001b[43m \u001b[49m\u001b[43mInteger\u001b[49m\u001b[43m(\u001b[49m\u001b[38;5;241;43m10\u001b[39;49m\u001b[43m)\u001b[49m\u001b[43m,\u001b[49m\u001b[43m \u001b[49m\u001b[43mInteger\u001b[49m\u001b[43m(\u001b[49m\u001b[38;5;241;43m0\u001b[39;49m\u001b[43m)\u001b[49m\u001b[43m,\u001b[49m\u001b[43m \u001b[49m\u001b[43mInteger\u001b[49m\u001b[43m(\u001b[49m\u001b[38;5;241;43m10\u001b[39;49m\u001b[43m)\u001b[49m\u001b[43m]\u001b[49m\u001b[43m)\u001b[49m\n",
      "Cell \u001b[0;32mIn[20], line 182\u001b[0m, in \u001b[0;36mPiecewiseEhrhartQuasiPolynomial.evaluate\u001b[0;34m(self, point)\u001b[0m\n\u001b[1;32m    178\u001b[0m     \u001b[38;5;28;01mraise\u001b[39;00m \u001b[38;5;167;01mValueError\u001b[39;00m(\u001b[38;5;124m\"\u001b[39m\u001b[38;5;124mDimension of ``point`` needs to be equal to the ambient\u001b[39m\u001b[38;5;124m\"\u001b[39m\n\u001b[1;32m    179\u001b[0m                      \u001b[38;5;124mf\u001b[39m\u001b[38;5;124m\"\u001b[39m\u001b[38;5;124m dimension of ``self`` which is \u001b[39m\u001b[38;5;132;01m{\u001b[39;00m\u001b[38;5;28mself\u001b[39m\u001b[38;5;241m.\u001b[39m_amb_dim\u001b[38;5;132;01m}\u001b[39;00m\u001b[38;5;124m\"\u001b[39m)\n\u001b[1;32m    181\u001b[0m proj \u001b[38;5;241m=\u001b[39m \u001b[38;5;28mself\u001b[39m\u001b[38;5;241m.\u001b[39m_projection(point)\n\u001b[0;32m--> 182\u001b[0m \u001b[38;5;28;01mfor\u001b[39;00m idx, cone \u001b[38;5;129;01min\u001b[39;00m \u001b[38;5;28menumerate\u001b[39m(\u001b[38;5;28;43mself\u001b[39;49m\u001b[38;5;241;43m.\u001b[39;49m\u001b[43m_max_cones\u001b[49m):\n\u001b[1;32m    183\u001b[0m     \u001b[38;5;28;01mif\u001b[39;00m proj \u001b[38;5;129;01min\u001b[39;00m cone:\n\u001b[1;32m    185\u001b[0m         off_set \u001b[38;5;241m=\u001b[39m \u001b[38;5;28mself\u001b[39m\u001b[38;5;241m.\u001b[39m_find_offset(point, idx)\n",
      "\u001b[0;31mAttributeError\u001b[0m: 'PiecewiseEhrhartQuasiPolynomial' object has no attribute '_max_cones'"
     ]
    }
   ],
   "source": [
    "p.evaluate([0, 10, 0, 10])"
   ]
  }
 ],
 "metadata": {
  "kernelspec": {
   "display_name": "SageMath 10.3",
   "language": "sage",
   "name": "sagemath"
  },
  "language_info": {
   "codemirror_mode": {
    "name": "ipython",
    "version": 3
   },
   "file_extension": ".py",
   "mimetype": "text/x-python",
   "name": "python",
   "nbconvert_exporter": "python",
   "pygments_lexer": "ipython3",
   "version": "3.10.12"
  }
 },
 "nbformat": 4,
 "nbformat_minor": 5
}
