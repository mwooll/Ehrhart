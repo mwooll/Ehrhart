{
 "cells": [
  {
   "cell_type": "code",
   "execution_count": 1,
   "id": "cb0de775-1029-4c53-a722-5ddb7d0400ea",
   "metadata": {},
   "outputs": [],
   "source": [
    "from sage.all import *\n",
    "from ehrhart_quasi_polynomial import *\n",
    "from ehrhart_quasi_polynomial import piecewise_ehrhart_quasi_polynomial as peqp\n",
    "from ehrhart_quasi_polynomial import ehrhart_quasi_polynomial as ehr\n",
    "from ehrhart_quasi_polynomial import _get_bounding_box"
   ]
  },
  {
   "cell_type": "code",
   "execution_count": 37,
   "id": "23e53179-a534-4ef2-a46d-c3f60ec3db55",
   "metadata": {},
   "outputs": [],
   "source": [
    "A = Matrix([[-1, 0], [0, -1], [1, 1], [0, 1]])"
   ]
  },
  {
   "cell_type": "code",
   "execution_count": 38,
   "id": "375595e1-5d52-4df1-b0b0-78be363ff320",
   "metadata": {},
   "outputs": [],
   "source": [
    "cones, qps, sec_fan = peqp(A)"
   ]
  },
  {
   "cell_type": "code",
   "execution_count": 140,
   "id": "c389ef9f-45eb-4cd3-ab58-a8f09a801a3e",
   "metadata": {},
   "outputs": [
    {
     "data": {
      "text/plain": [
       "{'AMBIENT_DIM': ['4'],\n",
       " 'DIM': ['4'],\n",
       " 'LINEALITY_DIM': ['2'],\n",
       " 'RAYS': ['-1 2 -1 3\\t# 0', '1 3 1 2\\t# 1', '2 1 2 -1\\t# 2'],\n",
       " 'N_RAYS': ['3'],\n",
       " 'LINEALITY_SPACE': ['1 0 -1 0', '0 1 -1 -1'],\n",
       " 'ORTH_LINEALITY_SPACE': ['1 0 1 -1', '0 1 0 1'],\n",
       " 'F_VECTOR': ['1 3 2'],\n",
       " 'SIMPLICIAL': ['1'],\n",
       " 'PURE': ['1'],\n",
       " 'CONES': ['{}\\t# Dimension 2',\n",
       "  '{0}\\t# Dimension 3',\n",
       "  '{1}',\n",
       "  '{2}',\n",
       "  '{0 1}\\t# Dimension 4',\n",
       "  '{1 2}'],\n",
       " 'MAXIMAL_CONES': ['{0 1}\\t# Dimension 4', '{1 2}']}"
      ]
     },
     "execution_count": 140,
     "metadata": {},
     "output_type": "execute_result"
    }
   ],
   "source": [
    "sec_fan.fan_dict"
   ]
  },
  {
   "cell_type": "code",
   "execution_count": null,
   "id": "161097c0-57e9-424b-87f4-4fd927b36c98",
   "metadata": {},
   "outputs": [],
   "source": [
    "def get_lineality_vectors(sec_fan):\n",
    "    lin_vectors = []\n",
    "    for vec in sec_fan.fan_dict[\"LINEALITY_SPACE\"]:\n",
    "        lin_vectors.append(free_module_element([int(val) for val in vec.split(\" \")]))\n",
    "    return lin_vectors"
   ]
  },
  {
   "cell_type": "code",
   "execution_count": 151,
   "id": "c225513d-6a70-41c5-9bf0-5386fc9a2f0b",
   "metadata": {},
   "outputs": [],
   "source": [
    "needed_rays = [free_module_element(ray) for ray in sec_fan.rays()][:sec_fan.dim() - sec_fan.lineality_dim()]\n",
    "lin_vectors = get_lineality_vectors(sec_fan)"
   ]
  },
  {
   "cell_type": "code",
   "execution_count": 152,
   "id": "8cc2060d-e6f8-4811-bd2c-b37f46fa5eea",
   "metadata": {},
   "outputs": [
    {
     "data": {
      "text/plain": [
       "[(-1, 2, -1, 3), (1, 3, 1, 2)]"
      ]
     },
     "execution_count": 152,
     "metadata": {},
     "output_type": "execute_result"
    }
   ],
   "source": [
    "needed_rays"
   ]
  },
  {
   "cell_type": "code",
   "execution_count": 112,
   "id": "2bf78930-0fdc-4374-a999-f4e99946f4bb",
   "metadata": {},
   "outputs": [],
   "source": [
    "def eval(qps, cones, point):\n",
    "    for idx, cone in enumerate(cones):\n",
    "        if point in cone:\n",
    "            print(idx)\n",
    "            return qps[idx](x0=point[0], x1=point[1], x2=point[2], x3=point[3])\n",
    "    return 0"
   ]
  },
  {
   "cell_type": "code",
   "execution_count": 153,
   "id": "94de8898-905e-43cd-a8b6-e0649d7450aa",
   "metadata": {},
   "outputs": [],
   "source": [
    "M = Matrix(needed_rays + lin_vectors)"
   ]
  },
  {
   "cell_type": "code",
   "execution_count": 154,
   "id": "274d3fcc-6d43-470c-9b0d-9e0ef191ebb5",
   "metadata": {},
   "outputs": [
    {
     "name": "stdout",
     "output_type": "stream",
     "text": [
      "QuasiPolynomial given by \n",
      "[1] + [18]*k + [72]*k^2\n",
      "0\n"
     ]
    },
    {
     "data": {
      "text/plain": [
       "72*k^2 + 18*k + 1"
      ]
     },
     "execution_count": 154,
     "metadata": {},
     "output_type": "execute_result"
    }
   ],
   "source": [
    "q = free_module_element([2, -2, 12, 200])\n",
    "print(ehr(create_polytope_from_matrix(A, q).Vrepresentation()))\n",
    "\n",
    "a, b, c, d = q/M\n",
    "p = a*r1 + b*r2\n",
    "eval(qps, cones, p)"
   ]
  }
 ],
 "metadata": {
  "kernelspec": {
   "display_name": "Python 3 (ipykernel)",
   "language": "python",
   "name": "python3"
  },
  "language_info": {
   "codemirror_mode": {
    "name": "ipython",
    "version": 3
   },
   "file_extension": ".py",
   "mimetype": "text/x-python",
   "name": "python",
   "nbconvert_exporter": "python",
   "pygments_lexer": "ipython3",
   "version": "3.10.12"
  }
 },
 "nbformat": 4,
 "nbformat_minor": 5
}
