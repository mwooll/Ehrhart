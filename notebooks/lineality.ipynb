{
 "cells": [
  {
   "cell_type": "code",
   "execution_count": 1,
   "id": "cb0de775-1029-4c53-a722-5ddb7d0400ea",
   "metadata": {},
   "outputs": [],
   "source": [
    "from itertools import combinations\n",
    "\n",
    "from sage.all import *\n",
    "from sage.rings.polynomial.groebner_fan import PolyhedralFan\n",
    "from ehrhart_quasi_polynomial import *\n",
    "from ehrhart_quasi_polynomial import ehrhart_quasi_polynomial as ehr\n",
    "from ehrhart_quasi_polynomial import PiecewiseEhrhartQuasiPolynomial as PEQP"
   ]
  },
  {
   "cell_type": "code",
   "execution_count": 2,
   "id": "23e53179-a534-4ef2-a46d-c3f60ec3db55",
   "metadata": {},
   "outputs": [],
   "source": [
    "A = Matrix([[-1, 0], [0, -1], [1, 1], [0, 1]])"
   ]
  },
  {
   "cell_type": "code",
   "execution_count": 4,
   "id": "375595e1-5d52-4df1-b0b0-78be363ff320",
   "metadata": {},
   "outputs": [
    {
     "ename": "TypeError",
     "evalue": "'NoneType' object is not iterable",
     "output_type": "error",
     "traceback": [
      "\u001b[0;31m---------------------------------------------------------------------------\u001b[0m",
      "\u001b[0;31mTypeError\u001b[0m                                 Traceback (most recent call last)",
      "Cell \u001b[0;32mIn[4], line 1\u001b[0m\n\u001b[0;32m----> 1\u001b[0m peqp \u001b[38;5;241m=\u001b[39m \u001b[43mPiecewiseEhrhartQuasiPolynomial\u001b[49m\u001b[43m(\u001b[49m\u001b[43mA\u001b[49m\u001b[43m)\u001b[49m\n",
      "File \u001b[0;32m~/uni/ehrhart/ehrhart_quasi_polynomial/ehrhart_piecewise.py:26\u001b[0m, in \u001b[0;36mPiecewiseEhrhartQuasiPolynomial.__init__\u001b[0;34m(self, A)\u001b[0m\n\u001b[1;32m     23\u001b[0m \u001b[38;5;28mself\u001b[39m\u001b[38;5;241m.\u001b[39m_origin \u001b[38;5;241m=\u001b[39m free_module_element([\u001b[38;5;241m0\u001b[39m]\u001b[38;5;241m*\u001b[39m\u001b[38;5;28mself\u001b[39m\u001b[38;5;241m.\u001b[39m_amb_dim)\n\u001b[1;32m     25\u001b[0m \u001b[38;5;28mself\u001b[39m\u001b[38;5;241m.\u001b[39m_projection_generator()\n\u001b[0;32m---> 26\u001b[0m \u001b[38;5;28mself\u001b[39m\u001b[38;5;241m.\u001b[39m_max_cones, \u001b[38;5;28mself\u001b[39m\u001b[38;5;241m.\u001b[39m_qps, \u001b[38;5;28mself\u001b[39m\u001b[38;5;241m.\u001b[39m_R, \u001b[38;5;28mself\u001b[39m\u001b[38;5;241m.\u001b[39m_S \u001b[38;5;241m=\u001b[39m \u001b[38;5;28;43mself\u001b[39;49m\u001b[38;5;241;43m.\u001b[39;49m\u001b[43m_compute_piecewise\u001b[49m\u001b[43m(\u001b[49m\u001b[43m)\u001b[49m\n\u001b[1;32m     27\u001b[0m \u001b[38;5;28mself\u001b[39m\u001b[38;5;241m.\u001b[39m_str_var \u001b[38;5;241m=\u001b[39m [\u001b[38;5;28mstr\u001b[39m(x) \u001b[38;5;28;01mfor\u001b[39;00m x \u001b[38;5;129;01min\u001b[39;00m \u001b[38;5;28mself\u001b[39m\u001b[38;5;241m.\u001b[39m_R\u001b[38;5;241m.\u001b[39mgens()]\n",
      "File \u001b[0;32m~/uni/ehrhart/ehrhart_quasi_polynomial/ehrhart_piecewise.py:76\u001b[0m, in \u001b[0;36mPiecewiseEhrhartQuasiPolynomial._compute_piecewise\u001b[0;34m(self)\u001b[0m\n\u001b[1;32m     74\u001b[0m cone_off_sets \u001b[38;5;241m=\u001b[39m \u001b[38;5;28mself\u001b[39m\u001b[38;5;241m.\u001b[39m_get_offset_points(cone_rays)\n\u001b[1;32m     75\u001b[0m cone_polynomials \u001b[38;5;241m=\u001b[39m []\n\u001b[0;32m---> 76\u001b[0m \u001b[38;5;28;01mfor\u001b[39;00m off_set \u001b[38;5;129;01min\u001b[39;00m cone_off_sets:\n\u001b[1;32m     77\u001b[0m     off_cone_points \u001b[38;5;241m=\u001b[39m [p \u001b[38;5;241m+\u001b[39m off_set \u001b[38;5;28;01mfor\u001b[39;00m p \u001b[38;5;129;01min\u001b[39;00m cone_points]\n\u001b[1;32m     78\u001b[0m     term_dict \u001b[38;5;241m=\u001b[39m \u001b[38;5;28mself\u001b[39m\u001b[38;5;241m.\u001b[39m_get_term_dict(\u001b[38;5;28mself\u001b[39m\u001b[38;5;241m.\u001b[39m_A, off_cone_points)\n",
      "\u001b[0;31mTypeError\u001b[0m: 'NoneType' object is not iterable"
     ]
    }
   ],
   "source": [
    "peqp = PiecewiseEhrhartQuasiPolynomial(A)"
   ]
  },
  {
   "cell_type": "code",
   "execution_count": 3,
   "id": "c389ef9f-45eb-4cd3-ab58-a8f09a801a3e",
   "metadata": {},
   "outputs": [
    {
     "data": {
      "text/plain": [
       "{'AMBIENT_DIM': ['4'],\n",
       " 'DIM': ['4'],\n",
       " 'LINEALITY_DIM': ['2'],\n",
       " 'RAYS': ['-1 2 -1 3\\t# 0', '1 3 1 2\\t# 1', '2 1 2 -1\\t# 2'],\n",
       " 'N_RAYS': ['3'],\n",
       " 'LINEALITY_SPACE': ['1 0 -1 0', '0 1 -1 -1'],\n",
       " 'ORTH_LINEALITY_SPACE': ['1 0 1 -1', '0 1 0 1'],\n",
       " 'F_VECTOR': ['1 3 2'],\n",
       " 'SIMPLICIAL': ['1'],\n",
       " 'PURE': ['1'],\n",
       " 'CONES': ['{}\\t# Dimension 2',\n",
       "  '{0}\\t# Dimension 3',\n",
       "  '{1}',\n",
       "  '{2}',\n",
       "  '{0 1}\\t# Dimension 4',\n",
       "  '{1 2}'],\n",
       " 'MAXIMAL_CONES': ['{0 1}\\t# Dimension 4', '{1 2}']}"
      ]
     },
     "execution_count": 3,
     "metadata": {},
     "output_type": "execute_result"
    }
   ],
   "source": [
    "def secondary_fan(A):\n",
    "        gfan_input = \"{\" + \", \".join(str(row) for row in A.rows()) + \"}\"\n",
    "        return PolyhedralFan(gfan(gfan_input, \"secondaryfan\"))\n",
    "sec_fan = secondary_fan(A)\n",
    "sec_fan.fan_dict"
   ]
  },
  {
   "cell_type": "code",
   "execution_count": 4,
   "id": "7c83ee5a-7bba-44c1-9e98-cda3c584b5c7",
   "metadata": {},
   "outputs": [
    {
     "data": {
      "text/plain": [
       "[[0, 1], [1, 2]]"
      ]
     },
     "execution_count": 4,
     "metadata": {},
     "output_type": "execute_result"
    }
   ],
   "source": [
    "sec_fan.maximal_cones()[4]"
   ]
  },
  {
   "cell_type": "code",
   "execution_count": 5,
   "id": "3d97c130-df40-4ab6-9204-d9293ff8f31b",
   "metadata": {},
   "outputs": [
    {
     "data": {
      "text/plain": [
       "[(-1, 2, -1, 3), (1, 3, 1, 2)]"
      ]
     },
     "execution_count": 5,
     "metadata": {},
     "output_type": "execute_result"
    }
   ],
   "source": [
    "cone1 = [free_module_element(sec_fan.rays()[idx]) for idx in sec_fan.maximal_cones()[4][0]]\n",
    "cone2 = [free_module_element(sec_fan.rays()[idx]) for idx in sec_fan.maximal_cones()[4][1]]\n",
    "cone1"
   ]
  },
  {
   "cell_type": "code",
   "execution_count": 6,
   "id": "2a758e75-30f9-4ede-a065-68ad441bd114",
   "metadata": {},
   "outputs": [
    {
     "data": {
      "text/plain": [
       "[(1, 3, 1, 2), (2, 1, 2, -1)]"
      ]
     },
     "execution_count": 6,
     "metadata": {},
     "output_type": "execute_result"
    }
   ],
   "source": [
    "cone2"
   ]
  },
  {
   "cell_type": "code",
   "execution_count": 11,
   "id": "c1cd2dab-4bbf-4548-8b1e-0cd253386003",
   "metadata": {},
   "outputs": [],
   "source": [
    "cone_rays = cone1"
   ]
  },
  {
   "cell_type": "code",
   "execution_count": 7,
   "id": "8e4daee5-54f4-47f9-ae21-b858d4db8fcf",
   "metadata": {},
   "outputs": [],
   "source": [
    "def get_offset_points(cone_rays):\n",
    "        vertices = list(cone_rays)\n",
    "        for dim in range(2, len(cone_rays)+1):\n",
    "            combis = combinations(cone_rays, dim)\n",
    "            vertices += [sum(combi, self._origin) for combi in combis]\n",
    "        polytope = Polyhedron([self._origin] + vertices)\n",
    "\n",
    "        integral_points = polytope.integral_points()\n",
    "        without_rays = [p for p in integral_points if p not in vertices]\n",
    "        off_set_points = [point for point in without_rays\n",
    "                          if 1 not in self._projected_coordinates(point)[:self._orth_dim]]\n",
    "        return off_set_points"
   ]
  },
  {
   "cell_type": "code",
   "execution_count": 9,
   "id": "70a342e2-5219-4f9d-98be-9babe2f832b1",
   "metadata": {},
   "outputs": [
    {
     "data": {
      "text/plain": [
       "[(0, 1, 0, 1), (0, 2, 0, 2), (0, 3, 0, 3), (0, 4, 0, 4)]"
      ]
     },
     "execution_count": 9,
     "metadata": {},
     "output_type": "execute_result"
    }
   ],
   "source": [
    "chamber_rays = [free_module_element(ray) for ray in cone1]\n",
    "off_sets = get_offset_points(chamber_rays)\n",
    "off_sets"
   ]
  }
 ],
 "metadata": {
  "kernelspec": {
   "display_name": "Python 3 (ipykernel)",
   "language": "python",
   "name": "python3"
  },
  "language_info": {
   "codemirror_mode": {
    "name": "ipython",
    "version": 3
   },
   "file_extension": ".py",
   "mimetype": "text/x-python",
   "name": "python",
   "nbconvert_exporter": "python",
   "pygments_lexer": "ipython3",
   "version": "3.10.12"
  }
 },
 "nbformat": 4,
 "nbformat_minor": 5
}
